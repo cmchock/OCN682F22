{
 "cells": [
  {
   "cell_type": "markdown",
   "id": "7e86be06",
   "metadata": {
    "pycharm": {
     "name": "#%% md\n"
    }
   },
   "source": [
    "### Question 0\n",
    "\n",
    "*  Draw a concepts diagram that uses all the following Github terminology \n",
    "   * Include any missing keywords that will simplify the concepts diagrams \n",
    "\n",
    "\n",
    "`Push`, `Repository`, `Clone`, `Pull`, `Pull Request`, `Branch`, `Merging`, `Github Client`, `README file`, `Private or Public`\n"
   ]
  },
  {
   "cell_type": "markdown",
   "id": "9516ebfa",
   "metadata": {
    "pycharm": {
     "name": "#%%\n"
    }
   },
   "source": [
    "# Add your photo here\n",
    "![](https://raw.githubusercontent.com/cmchock/OCN682F22/main/2_data_structures_intro/Experience2.png)"
   ]
  },
  {
   "cell_type": "markdown",
   "id": "1b89533c",
   "metadata": {
    "pycharm": {
     "name": "#%% md\n"
    }
   },
   "source": [
    "#### Question 1\n",
    "\n",
    "`matrix(c(1,2,3,4,5,6) , nrow = 3)`\n",
    "\n",
    "* Running the expression produces the following matrix\n",
    "\n",
    "|  |  |\n",
    "|---|---|\n",
    "| 1 | 4 |\n",
    "| 2 | 5 |\n",
    "| 3 | 6 |\n",
    "\n",
    "* How can you modify the call to `matrix()` to produce the following matrix instead?\n",
    "\n",
    "|   | col_1 |  col_2 |\n",
    "| --- |---|---|\n",
    "| row_1 | 1 | 2 |\n",
    "| row_2 | 3 | 4 |\n",
    "| row_3 | 5 | 6 |\n",
    "\n",
    "* Note that you need to name the columns (col_1 and col_2) and name the rows (row_1, row_2, row_3)\n",
    "\n",
    "Hint: Use the `?` symbol to invoke the matrix documentation"
   ]
  },
  {
   "cell_type": "code",
   "execution_count": 176,
   "id": "a725cc99",
   "metadata": {
    "pycharm": {
     "name": "#%%\n"
    }
   },
   "outputs": [
    {
     "data": {
      "text/html": [
       "<table class=\"dataframe\">\n",
       "<caption>A matrix: 3 × 2 of type int</caption>\n",
       "<thead>\n",
       "\t<tr><th></th><th scope=col>col_1</th><th scope=col>col_2</th></tr>\n",
       "</thead>\n",
       "<tbody>\n",
       "\t<tr><th scope=row>row_1</th><td>1</td><td>4</td></tr>\n",
       "\t<tr><th scope=row>row_2</th><td>2</td><td>5</td></tr>\n",
       "\t<tr><th scope=row>row_3</th><td>3</td><td>6</td></tr>\n",
       "</tbody>\n",
       "</table>\n"
      ],
      "text/latex": [
       "A matrix: 3 × 2 of type int\n",
       "\\begin{tabular}{r|ll}\n",
       "  & col\\_1 & col\\_2\\\\\n",
       "\\hline\n",
       "\trow\\_1 & 1 & 4\\\\\n",
       "\trow\\_2 & 2 & 5\\\\\n",
       "\trow\\_3 & 3 & 6\\\\\n",
       "\\end{tabular}\n"
      ],
      "text/markdown": [
       "\n",
       "A matrix: 3 × 2 of type int\n",
       "\n",
       "| <!--/--> | col_1 | col_2 |\n",
       "|---|---|---|\n",
       "| row_1 | 1 | 4 |\n",
       "| row_2 | 2 | 5 |\n",
       "| row_3 | 3 | 6 |\n",
       "\n"
      ],
      "text/plain": [
       "      col_1 col_2\n",
       "row_1 1     4    \n",
       "row_2 2     5    \n",
       "row_3 3     6    "
      ]
     },
     "metadata": {},
     "output_type": "display_data"
    }
   ],
   "source": [
    "# Write your answer here\n",
    "test_matrix=matrix(1:6 , ncol=2)\n",
    "rownames(test_matrix)=c(\"row_1\",\"row_2\",\"row_3\")\n",
    "colnames(test_matrix)=c(\"col_1\",\"col_2\")\n",
    "test_matrix"
   ]
  },
  {
   "cell_type": "markdown",
   "id": "ba4962d3",
   "metadata": {
    "pycharm": {
     "name": "#%% md\n"
    }
   },
   "source": [
    "#### Question 2\n",
    "\n",
    "* Load then sort the airquality data frame on its `Temp` and `Solar.R` columns in reverse order (largest to smallest values)\n",
    "  * The function to sort a data frame is called order\n",
    "* Display only the first 15 lines of your table"
   ]
  },
  {
   "cell_type": "code",
   "execution_count": 178,
   "id": "55d4ecc2",
   "metadata": {
    "pycharm": {
     "name": "#%%\n"
    }
   },
   "outputs": [
    {
     "data": {
      "text/html": [
       "<table class=\"dataframe\">\n",
       "<caption>A data.frame: 15 × 2</caption>\n",
       "<thead>\n",
       "\t<tr><th></th><th scope=col>Temp</th><th scope=col>Solar.R</th></tr>\n",
       "\t<tr><th></th><th scope=col>&lt;int&gt;</th><th scope=col>&lt;int&gt;</th></tr>\n",
       "</thead>\n",
       "<tbody>\n",
       "\t<tr><th scope=row>120</th><td>97</td><td>203</td></tr>\n",
       "\t<tr><th scope=row>122</th><td>96</td><td>237</td></tr>\n",
       "\t<tr><th scope=row>121</th><td>94</td><td>225</td></tr>\n",
       "\t<tr><th scope=row>123</th><td>94</td><td>188</td></tr>\n",
       "\t<tr><th scope=row>42</th><td>93</td><td>259</td></tr>\n",
       "\t<tr><th scope=row>127</th><td>93</td><td>189</td></tr>\n",
       "\t<tr><th scope=row>126</th><td>93</td><td>183</td></tr>\n",
       "\t<tr><th scope=row>70</th><td>92</td><td>272</td></tr>\n",
       "\t<tr><th scope=row>69</th><td>92</td><td>267</td></tr>\n",
       "\t<tr><th scope=row>43</th><td>92</td><td>250</td></tr>\n",
       "\t<tr><th scope=row>102</th><td>92</td><td>222</td></tr>\n",
       "\t<tr><th scope=row>125</th><td>92</td><td>197</td></tr>\n",
       "\t<tr><th scope=row>75</th><td>91</td><td>291</td></tr>\n",
       "\t<tr><th scope=row>124</th><td>91</td><td>167</td></tr>\n",
       "\t<tr><th scope=row>40</th><td>90</td><td>291</td></tr>\n",
       "</tbody>\n",
       "</table>\n"
      ],
      "text/latex": [
       "A data.frame: 15 × 2\n",
       "\\begin{tabular}{r|ll}\n",
       "  & Temp & Solar.R\\\\\n",
       "  & <int> & <int>\\\\\n",
       "\\hline\n",
       "\t120 & 97 & 203\\\\\n",
       "\t122 & 96 & 237\\\\\n",
       "\t121 & 94 & 225\\\\\n",
       "\t123 & 94 & 188\\\\\n",
       "\t42 & 93 & 259\\\\\n",
       "\t127 & 93 & 189\\\\\n",
       "\t126 & 93 & 183\\\\\n",
       "\t70 & 92 & 272\\\\\n",
       "\t69 & 92 & 267\\\\\n",
       "\t43 & 92 & 250\\\\\n",
       "\t102 & 92 & 222\\\\\n",
       "\t125 & 92 & 197\\\\\n",
       "\t75 & 91 & 291\\\\\n",
       "\t124 & 91 & 167\\\\\n",
       "\t40 & 90 & 291\\\\\n",
       "\\end{tabular}\n"
      ],
      "text/markdown": [
       "\n",
       "A data.frame: 15 × 2\n",
       "\n",
       "| <!--/--> | Temp &lt;int&gt; | Solar.R &lt;int&gt; |\n",
       "|---|---|---|\n",
       "| 120 | 97 | 203 |\n",
       "| 122 | 96 | 237 |\n",
       "| 121 | 94 | 225 |\n",
       "| 123 | 94 | 188 |\n",
       "| 42 | 93 | 259 |\n",
       "| 127 | 93 | 189 |\n",
       "| 126 | 93 | 183 |\n",
       "| 70 | 92 | 272 |\n",
       "| 69 | 92 | 267 |\n",
       "| 43 | 92 | 250 |\n",
       "| 102 | 92 | 222 |\n",
       "| 125 | 92 | 197 |\n",
       "| 75 | 91 | 291 |\n",
       "| 124 | 91 | 167 |\n",
       "| 40 | 90 | 291 |\n",
       "\n"
      ],
      "text/plain": [
       "    Temp Solar.R\n",
       "120 97   203    \n",
       "122 96   237    \n",
       "121 94   225    \n",
       "123 94   188    \n",
       "42  93   259    \n",
       "127 93   189    \n",
       "126 93   183    \n",
       "70  92   272    \n",
       "69  92   267    \n",
       "43  92   250    \n",
       "102 92   222    \n",
       "125 92   197    \n",
       "75  91   291    \n",
       "124 91   167    \n",
       "40  90   291    "
      ]
     },
     "metadata": {},
     "output_type": "display_data"
    }
   ],
   "source": [
    "# Write your answer here\n",
    "data(\"airquality\")\n",
    "my_df<-airquality[, c(\"Temp\",\"Solar.R\")]\n",
    "ordered_df<-my_df[order(-my_df$Temp,-my_df$Solar.R),]\n",
    "head(ordered_df, n=15)"
   ]
  },
  {
   "cell_type": "markdown",
   "id": "b377d82a",
   "metadata": {
    "pycharm": {
     "name": "#%% md\n"
    }
   },
   "source": [
    "#### Question 3\n",
    "\n",
    "* Sort the airquality data frame on its `Temp` in decreasing order and `Solar.R` in increasing order\n",
    "* Display only the first 15 lines of your table"
   ]
  },
  {
   "cell_type": "code",
   "execution_count": 179,
   "id": "34a70e10",
   "metadata": {
    "pycharm": {
     "name": "#%%\n"
    }
   },
   "outputs": [
    {
     "data": {
      "text/html": [
       "<table class=\"dataframe\">\n",
       "<caption>A data.frame: 15 × 2</caption>\n",
       "<thead>\n",
       "\t<tr><th></th><th scope=col>Temp</th><th scope=col>Solar.R</th></tr>\n",
       "\t<tr><th></th><th scope=col>&lt;int&gt;</th><th scope=col>&lt;int&gt;</th></tr>\n",
       "</thead>\n",
       "<tbody>\n",
       "\t<tr><th scope=row>120</th><td>97</td><td>203</td></tr>\n",
       "\t<tr><th scope=row>122</th><td>96</td><td>237</td></tr>\n",
       "\t<tr><th scope=row>123</th><td>94</td><td>188</td></tr>\n",
       "\t<tr><th scope=row>121</th><td>94</td><td>225</td></tr>\n",
       "\t<tr><th scope=row>126</th><td>93</td><td>183</td></tr>\n",
       "\t<tr><th scope=row>127</th><td>93</td><td>189</td></tr>\n",
       "\t<tr><th scope=row>42</th><td>93</td><td>259</td></tr>\n",
       "\t<tr><th scope=row>125</th><td>92</td><td>197</td></tr>\n",
       "\t<tr><th scope=row>102</th><td>92</td><td>222</td></tr>\n",
       "\t<tr><th scope=row>43</th><td>92</td><td>250</td></tr>\n",
       "\t<tr><th scope=row>69</th><td>92</td><td>267</td></tr>\n",
       "\t<tr><th scope=row>70</th><td>92</td><td>272</td></tr>\n",
       "\t<tr><th scope=row>124</th><td>91</td><td>167</td></tr>\n",
       "\t<tr><th scope=row>75</th><td>91</td><td>291</td></tr>\n",
       "\t<tr><th scope=row>101</th><td>90</td><td>207</td></tr>\n",
       "</tbody>\n",
       "</table>\n"
      ],
      "text/latex": [
       "A data.frame: 15 × 2\n",
       "\\begin{tabular}{r|ll}\n",
       "  & Temp & Solar.R\\\\\n",
       "  & <int> & <int>\\\\\n",
       "\\hline\n",
       "\t120 & 97 & 203\\\\\n",
       "\t122 & 96 & 237\\\\\n",
       "\t123 & 94 & 188\\\\\n",
       "\t121 & 94 & 225\\\\\n",
       "\t126 & 93 & 183\\\\\n",
       "\t127 & 93 & 189\\\\\n",
       "\t42 & 93 & 259\\\\\n",
       "\t125 & 92 & 197\\\\\n",
       "\t102 & 92 & 222\\\\\n",
       "\t43 & 92 & 250\\\\\n",
       "\t69 & 92 & 267\\\\\n",
       "\t70 & 92 & 272\\\\\n",
       "\t124 & 91 & 167\\\\\n",
       "\t75 & 91 & 291\\\\\n",
       "\t101 & 90 & 207\\\\\n",
       "\\end{tabular}\n"
      ],
      "text/markdown": [
       "\n",
       "A data.frame: 15 × 2\n",
       "\n",
       "| <!--/--> | Temp &lt;int&gt; | Solar.R &lt;int&gt; |\n",
       "|---|---|---|\n",
       "| 120 | 97 | 203 |\n",
       "| 122 | 96 | 237 |\n",
       "| 123 | 94 | 188 |\n",
       "| 121 | 94 | 225 |\n",
       "| 126 | 93 | 183 |\n",
       "| 127 | 93 | 189 |\n",
       "| 42 | 93 | 259 |\n",
       "| 125 | 92 | 197 |\n",
       "| 102 | 92 | 222 |\n",
       "| 43 | 92 | 250 |\n",
       "| 69 | 92 | 267 |\n",
       "| 70 | 92 | 272 |\n",
       "| 124 | 91 | 167 |\n",
       "| 75 | 91 | 291 |\n",
       "| 101 | 90 | 207 |\n",
       "\n"
      ],
      "text/plain": [
       "    Temp Solar.R\n",
       "120 97   203    \n",
       "122 96   237    \n",
       "123 94   188    \n",
       "121 94   225    \n",
       "126 93   183    \n",
       "127 93   189    \n",
       "42  93   259    \n",
       "125 92   197    \n",
       "102 92   222    \n",
       "43  92   250    \n",
       "69  92   267    \n",
       "70  92   272    \n",
       "124 91   167    \n",
       "75  91   291    \n",
       "101 90   207    "
      ]
     },
     "metadata": {},
     "output_type": "display_data"
    }
   ],
   "source": [
    "# Write your answer here\n",
    "data(\"airquality\")\n",
    "my_df<-airquality[, c(\"Temp\",\"Solar.R\")]\n",
    "ordered_df<-my_df[order(-my_df$Temp,my_df$Solar.R),]\n",
    "head(ordered_df, n=15)"
   ]
  },
  {
   "cell_type": "markdown",
   "id": "25e9a77e",
   "metadata": {
    "pycharm": {
     "name": "#%% md\n"
    }
   },
   "source": [
    "#### Question 4\n",
    "\n",
    "* There are various ways to select a subset of observations from a data frame.\n",
    "\n",
    "* Consult your [R Reference Card](https://cran.r-project.org/doc/contrib/Baggott-refcard-v2.pdf), see `Data Selection and Manipulation` section.\n",
    "  * What operations can you use to select all observations where the temperature is 72. Give at least two different answers to this question\n",
    "\n"
   ]
  },
  {
   "cell_type": "markdown",
   "id": "8b116175",
   "metadata": {
    "pycharm": {
     "name": "#%%\n"
    }
   },
   "source": [
    "# Write your answer here\n",
    "1) `match(x,y)`\n",
    "2) `which(x==a)`"
   ]
  },
  {
   "cell_type": "markdown",
   "id": "f794ee74",
   "metadata": {
    "pycharm": {
     "name": "#%% md\n"
    }
   },
   "source": [
    "#### Question 6\n",
    "\n",
    "* You may have noticed when working with the `airqulity` data that some values show as `NA`\n",
    " * `NA` stands for not available, or missing values.\n",
    "* A major part of data wrangling consists of cleaning missing values by either:\n",
    "  * Dropping the lines that have missing values\n",
    "   * Sometimes we can drop the column with missing values if the column is made of predominantly missing values\n",
    "  * Imputing the missing values, which uses educated guesses (or more complex algorithms) to fill the missing values\n",
    "  \n",
    "* Find and remove all rows that are missing values for the `Solar.R` or `Ozone` variables\n",
    "* Save the cleaned data to a new data frame called airquality_no_na\n",
    "  * How many lines have been removed?\n"
   ]
  },
  {
   "cell_type": "code",
   "execution_count": 180,
   "id": "4b5ade16",
   "metadata": {
    "pycharm": {
     "name": "#%%\n"
    }
   },
   "outputs": [
    {
     "data": {
      "text/html": [
       "<table class=\"dataframe\">\n",
       "<caption>A data.frame: 111 × 6</caption>\n",
       "<thead>\n",
       "\t<tr><th></th><th scope=col>Ozone</th><th scope=col>Solar.R</th><th scope=col>Wind</th><th scope=col>Temp</th><th scope=col>Month</th><th scope=col>Day</th></tr>\n",
       "\t<tr><th></th><th scope=col>&lt;int&gt;</th><th scope=col>&lt;int&gt;</th><th scope=col>&lt;dbl&gt;</th><th scope=col>&lt;int&gt;</th><th scope=col>&lt;int&gt;</th><th scope=col>&lt;int&gt;</th></tr>\n",
       "</thead>\n",
       "<tbody>\n",
       "\t<tr><th scope=row>1</th><td> 41</td><td>190</td><td> 7.4</td><td>67</td><td>5</td><td> 1</td></tr>\n",
       "\t<tr><th scope=row>2</th><td> 36</td><td>118</td><td> 8.0</td><td>72</td><td>5</td><td> 2</td></tr>\n",
       "\t<tr><th scope=row>3</th><td> 12</td><td>149</td><td>12.6</td><td>74</td><td>5</td><td> 3</td></tr>\n",
       "\t<tr><th scope=row>4</th><td> 18</td><td>313</td><td>11.5</td><td>62</td><td>5</td><td> 4</td></tr>\n",
       "\t<tr><th scope=row>7</th><td> 23</td><td>299</td><td> 8.6</td><td>65</td><td>5</td><td> 7</td></tr>\n",
       "\t<tr><th scope=row>8</th><td> 19</td><td> 99</td><td>13.8</td><td>59</td><td>5</td><td> 8</td></tr>\n",
       "\t<tr><th scope=row>9</th><td>  8</td><td> 19</td><td>20.1</td><td>61</td><td>5</td><td> 9</td></tr>\n",
       "\t<tr><th scope=row>12</th><td> 16</td><td>256</td><td> 9.7</td><td>69</td><td>5</td><td>12</td></tr>\n",
       "\t<tr><th scope=row>13</th><td> 11</td><td>290</td><td> 9.2</td><td>66</td><td>5</td><td>13</td></tr>\n",
       "\t<tr><th scope=row>14</th><td> 14</td><td>274</td><td>10.9</td><td>68</td><td>5</td><td>14</td></tr>\n",
       "\t<tr><th scope=row>15</th><td> 18</td><td> 65</td><td>13.2</td><td>58</td><td>5</td><td>15</td></tr>\n",
       "\t<tr><th scope=row>16</th><td> 14</td><td>334</td><td>11.5</td><td>64</td><td>5</td><td>16</td></tr>\n",
       "\t<tr><th scope=row>17</th><td> 34</td><td>307</td><td>12.0</td><td>66</td><td>5</td><td>17</td></tr>\n",
       "\t<tr><th scope=row>18</th><td>  6</td><td> 78</td><td>18.4</td><td>57</td><td>5</td><td>18</td></tr>\n",
       "\t<tr><th scope=row>19</th><td> 30</td><td>322</td><td>11.5</td><td>68</td><td>5</td><td>19</td></tr>\n",
       "\t<tr><th scope=row>20</th><td> 11</td><td> 44</td><td> 9.7</td><td>62</td><td>5</td><td>20</td></tr>\n",
       "\t<tr><th scope=row>21</th><td>  1</td><td>  8</td><td> 9.7</td><td>59</td><td>5</td><td>21</td></tr>\n",
       "\t<tr><th scope=row>22</th><td> 11</td><td>320</td><td>16.6</td><td>73</td><td>5</td><td>22</td></tr>\n",
       "\t<tr><th scope=row>23</th><td>  4</td><td> 25</td><td> 9.7</td><td>61</td><td>5</td><td>23</td></tr>\n",
       "\t<tr><th scope=row>24</th><td> 32</td><td> 92</td><td>12.0</td><td>61</td><td>5</td><td>24</td></tr>\n",
       "\t<tr><th scope=row>28</th><td> 23</td><td> 13</td><td>12.0</td><td>67</td><td>5</td><td>28</td></tr>\n",
       "\t<tr><th scope=row>29</th><td> 45</td><td>252</td><td>14.9</td><td>81</td><td>5</td><td>29</td></tr>\n",
       "\t<tr><th scope=row>30</th><td>115</td><td>223</td><td> 5.7</td><td>79</td><td>5</td><td>30</td></tr>\n",
       "\t<tr><th scope=row>31</th><td> 37</td><td>279</td><td> 7.4</td><td>76</td><td>5</td><td>31</td></tr>\n",
       "\t<tr><th scope=row>38</th><td> 29</td><td>127</td><td> 9.7</td><td>82</td><td>6</td><td> 7</td></tr>\n",
       "\t<tr><th scope=row>40</th><td> 71</td><td>291</td><td>13.8</td><td>90</td><td>6</td><td> 9</td></tr>\n",
       "\t<tr><th scope=row>41</th><td> 39</td><td>323</td><td>11.5</td><td>87</td><td>6</td><td>10</td></tr>\n",
       "\t<tr><th scope=row>44</th><td> 23</td><td>148</td><td> 8.0</td><td>82</td><td>6</td><td>13</td></tr>\n",
       "\t<tr><th scope=row>47</th><td> 21</td><td>191</td><td>14.9</td><td>77</td><td>6</td><td>16</td></tr>\n",
       "\t<tr><th scope=row>48</th><td> 37</td><td>284</td><td>20.7</td><td>72</td><td>6</td><td>17</td></tr>\n",
       "\t<tr><th scope=row>...</th><td>...</td><td>...</td><td>...</td><td>...</td><td>...</td><td>...</td></tr>\n",
       "\t<tr><th scope=row>123</th><td>85</td><td>188</td><td> 6.3</td><td>94</td><td>8</td><td>31</td></tr>\n",
       "\t<tr><th scope=row>124</th><td>96</td><td>167</td><td> 6.9</td><td>91</td><td>9</td><td> 1</td></tr>\n",
       "\t<tr><th scope=row>125</th><td>78</td><td>197</td><td> 5.1</td><td>92</td><td>9</td><td> 2</td></tr>\n",
       "\t<tr><th scope=row>126</th><td>73</td><td>183</td><td> 2.8</td><td>93</td><td>9</td><td> 3</td></tr>\n",
       "\t<tr><th scope=row>127</th><td>91</td><td>189</td><td> 4.6</td><td>93</td><td>9</td><td> 4</td></tr>\n",
       "\t<tr><th scope=row>128</th><td>47</td><td> 95</td><td> 7.4</td><td>87</td><td>9</td><td> 5</td></tr>\n",
       "\t<tr><th scope=row>129</th><td>32</td><td> 92</td><td>15.5</td><td>84</td><td>9</td><td> 6</td></tr>\n",
       "\t<tr><th scope=row>130</th><td>20</td><td>252</td><td>10.9</td><td>80</td><td>9</td><td> 7</td></tr>\n",
       "\t<tr><th scope=row>131</th><td>23</td><td>220</td><td>10.3</td><td>78</td><td>9</td><td> 8</td></tr>\n",
       "\t<tr><th scope=row>132</th><td>21</td><td>230</td><td>10.9</td><td>75</td><td>9</td><td> 9</td></tr>\n",
       "\t<tr><th scope=row>133</th><td>24</td><td>259</td><td> 9.7</td><td>73</td><td>9</td><td>10</td></tr>\n",
       "\t<tr><th scope=row>134</th><td>44</td><td>236</td><td>14.9</td><td>81</td><td>9</td><td>11</td></tr>\n",
       "\t<tr><th scope=row>135</th><td>21</td><td>259</td><td>15.5</td><td>76</td><td>9</td><td>12</td></tr>\n",
       "\t<tr><th scope=row>136</th><td>28</td><td>238</td><td> 6.3</td><td>77</td><td>9</td><td>13</td></tr>\n",
       "\t<tr><th scope=row>137</th><td> 9</td><td> 24</td><td>10.9</td><td>71</td><td>9</td><td>14</td></tr>\n",
       "\t<tr><th scope=row>138</th><td>13</td><td>112</td><td>11.5</td><td>71</td><td>9</td><td>15</td></tr>\n",
       "\t<tr><th scope=row>139</th><td>46</td><td>237</td><td> 6.9</td><td>78</td><td>9</td><td>16</td></tr>\n",
       "\t<tr><th scope=row>140</th><td>18</td><td>224</td><td>13.8</td><td>67</td><td>9</td><td>17</td></tr>\n",
       "\t<tr><th scope=row>141</th><td>13</td><td> 27</td><td>10.3</td><td>76</td><td>9</td><td>18</td></tr>\n",
       "\t<tr><th scope=row>142</th><td>24</td><td>238</td><td>10.3</td><td>68</td><td>9</td><td>19</td></tr>\n",
       "\t<tr><th scope=row>143</th><td>16</td><td>201</td><td> 8.0</td><td>82</td><td>9</td><td>20</td></tr>\n",
       "\t<tr><th scope=row>144</th><td>13</td><td>238</td><td>12.6</td><td>64</td><td>9</td><td>21</td></tr>\n",
       "\t<tr><th scope=row>145</th><td>23</td><td> 14</td><td> 9.2</td><td>71</td><td>9</td><td>22</td></tr>\n",
       "\t<tr><th scope=row>146</th><td>36</td><td>139</td><td>10.3</td><td>81</td><td>9</td><td>23</td></tr>\n",
       "\t<tr><th scope=row>147</th><td> 7</td><td> 49</td><td>10.3</td><td>69</td><td>9</td><td>24</td></tr>\n",
       "\t<tr><th scope=row>148</th><td>14</td><td> 20</td><td>16.6</td><td>63</td><td>9</td><td>25</td></tr>\n",
       "\t<tr><th scope=row>149</th><td>30</td><td>193</td><td> 6.9</td><td>70</td><td>9</td><td>26</td></tr>\n",
       "\t<tr><th scope=row>151</th><td>14</td><td>191</td><td>14.3</td><td>75</td><td>9</td><td>28</td></tr>\n",
       "\t<tr><th scope=row>152</th><td>18</td><td>131</td><td> 8.0</td><td>76</td><td>9</td><td>29</td></tr>\n",
       "\t<tr><th scope=row>153</th><td>20</td><td>223</td><td>11.5</td><td>68</td><td>9</td><td>30</td></tr>\n",
       "</tbody>\n",
       "</table>\n"
      ],
      "text/latex": [
       "A data.frame: 111 × 6\n",
       "\\begin{tabular}{r|llllll}\n",
       "  & Ozone & Solar.R & Wind & Temp & Month & Day\\\\\n",
       "  & <int> & <int> & <dbl> & <int> & <int> & <int>\\\\\n",
       "\\hline\n",
       "\t1 &  41 & 190 &  7.4 & 67 & 5 &  1\\\\\n",
       "\t2 &  36 & 118 &  8.0 & 72 & 5 &  2\\\\\n",
       "\t3 &  12 & 149 & 12.6 & 74 & 5 &  3\\\\\n",
       "\t4 &  18 & 313 & 11.5 & 62 & 5 &  4\\\\\n",
       "\t7 &  23 & 299 &  8.6 & 65 & 5 &  7\\\\\n",
       "\t8 &  19 &  99 & 13.8 & 59 & 5 &  8\\\\\n",
       "\t9 &   8 &  19 & 20.1 & 61 & 5 &  9\\\\\n",
       "\t12 &  16 & 256 &  9.7 & 69 & 5 & 12\\\\\n",
       "\t13 &  11 & 290 &  9.2 & 66 & 5 & 13\\\\\n",
       "\t14 &  14 & 274 & 10.9 & 68 & 5 & 14\\\\\n",
       "\t15 &  18 &  65 & 13.2 & 58 & 5 & 15\\\\\n",
       "\t16 &  14 & 334 & 11.5 & 64 & 5 & 16\\\\\n",
       "\t17 &  34 & 307 & 12.0 & 66 & 5 & 17\\\\\n",
       "\t18 &   6 &  78 & 18.4 & 57 & 5 & 18\\\\\n",
       "\t19 &  30 & 322 & 11.5 & 68 & 5 & 19\\\\\n",
       "\t20 &  11 &  44 &  9.7 & 62 & 5 & 20\\\\\n",
       "\t21 &   1 &   8 &  9.7 & 59 & 5 & 21\\\\\n",
       "\t22 &  11 & 320 & 16.6 & 73 & 5 & 22\\\\\n",
       "\t23 &   4 &  25 &  9.7 & 61 & 5 & 23\\\\\n",
       "\t24 &  32 &  92 & 12.0 & 61 & 5 & 24\\\\\n",
       "\t28 &  23 &  13 & 12.0 & 67 & 5 & 28\\\\\n",
       "\t29 &  45 & 252 & 14.9 & 81 & 5 & 29\\\\\n",
       "\t30 & 115 & 223 &  5.7 & 79 & 5 & 30\\\\\n",
       "\t31 &  37 & 279 &  7.4 & 76 & 5 & 31\\\\\n",
       "\t38 &  29 & 127 &  9.7 & 82 & 6 &  7\\\\\n",
       "\t40 &  71 & 291 & 13.8 & 90 & 6 &  9\\\\\n",
       "\t41 &  39 & 323 & 11.5 & 87 & 6 & 10\\\\\n",
       "\t44 &  23 & 148 &  8.0 & 82 & 6 & 13\\\\\n",
       "\t47 &  21 & 191 & 14.9 & 77 & 6 & 16\\\\\n",
       "\t48 &  37 & 284 & 20.7 & 72 & 6 & 17\\\\\n",
       "\t... & ... & ... & ... & ... & ... & ...\\\\\n",
       "\t123 & 85 & 188 &  6.3 & 94 & 8 & 31\\\\\n",
       "\t124 & 96 & 167 &  6.9 & 91 & 9 &  1\\\\\n",
       "\t125 & 78 & 197 &  5.1 & 92 & 9 &  2\\\\\n",
       "\t126 & 73 & 183 &  2.8 & 93 & 9 &  3\\\\\n",
       "\t127 & 91 & 189 &  4.6 & 93 & 9 &  4\\\\\n",
       "\t128 & 47 &  95 &  7.4 & 87 & 9 &  5\\\\\n",
       "\t129 & 32 &  92 & 15.5 & 84 & 9 &  6\\\\\n",
       "\t130 & 20 & 252 & 10.9 & 80 & 9 &  7\\\\\n",
       "\t131 & 23 & 220 & 10.3 & 78 & 9 &  8\\\\\n",
       "\t132 & 21 & 230 & 10.9 & 75 & 9 &  9\\\\\n",
       "\t133 & 24 & 259 &  9.7 & 73 & 9 & 10\\\\\n",
       "\t134 & 44 & 236 & 14.9 & 81 & 9 & 11\\\\\n",
       "\t135 & 21 & 259 & 15.5 & 76 & 9 & 12\\\\\n",
       "\t136 & 28 & 238 &  6.3 & 77 & 9 & 13\\\\\n",
       "\t137 &  9 &  24 & 10.9 & 71 & 9 & 14\\\\\n",
       "\t138 & 13 & 112 & 11.5 & 71 & 9 & 15\\\\\n",
       "\t139 & 46 & 237 &  6.9 & 78 & 9 & 16\\\\\n",
       "\t140 & 18 & 224 & 13.8 & 67 & 9 & 17\\\\\n",
       "\t141 & 13 &  27 & 10.3 & 76 & 9 & 18\\\\\n",
       "\t142 & 24 & 238 & 10.3 & 68 & 9 & 19\\\\\n",
       "\t143 & 16 & 201 &  8.0 & 82 & 9 & 20\\\\\n",
       "\t144 & 13 & 238 & 12.6 & 64 & 9 & 21\\\\\n",
       "\t145 & 23 &  14 &  9.2 & 71 & 9 & 22\\\\\n",
       "\t146 & 36 & 139 & 10.3 & 81 & 9 & 23\\\\\n",
       "\t147 &  7 &  49 & 10.3 & 69 & 9 & 24\\\\\n",
       "\t148 & 14 &  20 & 16.6 & 63 & 9 & 25\\\\\n",
       "\t149 & 30 & 193 &  6.9 & 70 & 9 & 26\\\\\n",
       "\t151 & 14 & 191 & 14.3 & 75 & 9 & 28\\\\\n",
       "\t152 & 18 & 131 &  8.0 & 76 & 9 & 29\\\\\n",
       "\t153 & 20 & 223 & 11.5 & 68 & 9 & 30\\\\\n",
       "\\end{tabular}\n"
      ],
      "text/markdown": [
       "\n",
       "A data.frame: 111 × 6\n",
       "\n",
       "| <!--/--> | Ozone &lt;int&gt; | Solar.R &lt;int&gt; | Wind &lt;dbl&gt; | Temp &lt;int&gt; | Month &lt;int&gt; | Day &lt;int&gt; |\n",
       "|---|---|---|---|---|---|---|\n",
       "| 1 |  41 | 190 |  7.4 | 67 | 5 |  1 |\n",
       "| 2 |  36 | 118 |  8.0 | 72 | 5 |  2 |\n",
       "| 3 |  12 | 149 | 12.6 | 74 | 5 |  3 |\n",
       "| 4 |  18 | 313 | 11.5 | 62 | 5 |  4 |\n",
       "| 7 |  23 | 299 |  8.6 | 65 | 5 |  7 |\n",
       "| 8 |  19 |  99 | 13.8 | 59 | 5 |  8 |\n",
       "| 9 |   8 |  19 | 20.1 | 61 | 5 |  9 |\n",
       "| 12 |  16 | 256 |  9.7 | 69 | 5 | 12 |\n",
       "| 13 |  11 | 290 |  9.2 | 66 | 5 | 13 |\n",
       "| 14 |  14 | 274 | 10.9 | 68 | 5 | 14 |\n",
       "| 15 |  18 |  65 | 13.2 | 58 | 5 | 15 |\n",
       "| 16 |  14 | 334 | 11.5 | 64 | 5 | 16 |\n",
       "| 17 |  34 | 307 | 12.0 | 66 | 5 | 17 |\n",
       "| 18 |   6 |  78 | 18.4 | 57 | 5 | 18 |\n",
       "| 19 |  30 | 322 | 11.5 | 68 | 5 | 19 |\n",
       "| 20 |  11 |  44 |  9.7 | 62 | 5 | 20 |\n",
       "| 21 |   1 |   8 |  9.7 | 59 | 5 | 21 |\n",
       "| 22 |  11 | 320 | 16.6 | 73 | 5 | 22 |\n",
       "| 23 |   4 |  25 |  9.7 | 61 | 5 | 23 |\n",
       "| 24 |  32 |  92 | 12.0 | 61 | 5 | 24 |\n",
       "| 28 |  23 |  13 | 12.0 | 67 | 5 | 28 |\n",
       "| 29 |  45 | 252 | 14.9 | 81 | 5 | 29 |\n",
       "| 30 | 115 | 223 |  5.7 | 79 | 5 | 30 |\n",
       "| 31 |  37 | 279 |  7.4 | 76 | 5 | 31 |\n",
       "| 38 |  29 | 127 |  9.7 | 82 | 6 |  7 |\n",
       "| 40 |  71 | 291 | 13.8 | 90 | 6 |  9 |\n",
       "| 41 |  39 | 323 | 11.5 | 87 | 6 | 10 |\n",
       "| 44 |  23 | 148 |  8.0 | 82 | 6 | 13 |\n",
       "| 47 |  21 | 191 | 14.9 | 77 | 6 | 16 |\n",
       "| 48 |  37 | 284 | 20.7 | 72 | 6 | 17 |\n",
       "| ... | ... | ... | ... | ... | ... | ... |\n",
       "| 123 | 85 | 188 |  6.3 | 94 | 8 | 31 |\n",
       "| 124 | 96 | 167 |  6.9 | 91 | 9 |  1 |\n",
       "| 125 | 78 | 197 |  5.1 | 92 | 9 |  2 |\n",
       "| 126 | 73 | 183 |  2.8 | 93 | 9 |  3 |\n",
       "| 127 | 91 | 189 |  4.6 | 93 | 9 |  4 |\n",
       "| 128 | 47 |  95 |  7.4 | 87 | 9 |  5 |\n",
       "| 129 | 32 |  92 | 15.5 | 84 | 9 |  6 |\n",
       "| 130 | 20 | 252 | 10.9 | 80 | 9 |  7 |\n",
       "| 131 | 23 | 220 | 10.3 | 78 | 9 |  8 |\n",
       "| 132 | 21 | 230 | 10.9 | 75 | 9 |  9 |\n",
       "| 133 | 24 | 259 |  9.7 | 73 | 9 | 10 |\n",
       "| 134 | 44 | 236 | 14.9 | 81 | 9 | 11 |\n",
       "| 135 | 21 | 259 | 15.5 | 76 | 9 | 12 |\n",
       "| 136 | 28 | 238 |  6.3 | 77 | 9 | 13 |\n",
       "| 137 |  9 |  24 | 10.9 | 71 | 9 | 14 |\n",
       "| 138 | 13 | 112 | 11.5 | 71 | 9 | 15 |\n",
       "| 139 | 46 | 237 |  6.9 | 78 | 9 | 16 |\n",
       "| 140 | 18 | 224 | 13.8 | 67 | 9 | 17 |\n",
       "| 141 | 13 |  27 | 10.3 | 76 | 9 | 18 |\n",
       "| 142 | 24 | 238 | 10.3 | 68 | 9 | 19 |\n",
       "| 143 | 16 | 201 |  8.0 | 82 | 9 | 20 |\n",
       "| 144 | 13 | 238 | 12.6 | 64 | 9 | 21 |\n",
       "| 145 | 23 |  14 |  9.2 | 71 | 9 | 22 |\n",
       "| 146 | 36 | 139 | 10.3 | 81 | 9 | 23 |\n",
       "| 147 |  7 |  49 | 10.3 | 69 | 9 | 24 |\n",
       "| 148 | 14 |  20 | 16.6 | 63 | 9 | 25 |\n",
       "| 149 | 30 | 193 |  6.9 | 70 | 9 | 26 |\n",
       "| 151 | 14 | 191 | 14.3 | 75 | 9 | 28 |\n",
       "| 152 | 18 | 131 |  8.0 | 76 | 9 | 29 |\n",
       "| 153 | 20 | 223 | 11.5 | 68 | 9 | 30 |\n",
       "\n"
      ],
      "text/plain": [
       "    Ozone Solar.R Wind Temp Month Day\n",
       "1    41   190      7.4 67   5      1 \n",
       "2    36   118      8.0 72   5      2 \n",
       "3    12   149     12.6 74   5      3 \n",
       "4    18   313     11.5 62   5      4 \n",
       "7    23   299      8.6 65   5      7 \n",
       "8    19    99     13.8 59   5      8 \n",
       "9     8    19     20.1 61   5      9 \n",
       "12   16   256      9.7 69   5     12 \n",
       "13   11   290      9.2 66   5     13 \n",
       "14   14   274     10.9 68   5     14 \n",
       "15   18    65     13.2 58   5     15 \n",
       "16   14   334     11.5 64   5     16 \n",
       "17   34   307     12.0 66   5     17 \n",
       "18    6    78     18.4 57   5     18 \n",
       "19   30   322     11.5 68   5     19 \n",
       "20   11    44      9.7 62   5     20 \n",
       "21    1     8      9.7 59   5     21 \n",
       "22   11   320     16.6 73   5     22 \n",
       "23    4    25      9.7 61   5     23 \n",
       "24   32    92     12.0 61   5     24 \n",
       "28   23    13     12.0 67   5     28 \n",
       "29   45   252     14.9 81   5     29 \n",
       "30  115   223      5.7 79   5     30 \n",
       "31   37   279      7.4 76   5     31 \n",
       "38   29   127      9.7 82   6      7 \n",
       "40   71   291     13.8 90   6      9 \n",
       "41   39   323     11.5 87   6     10 \n",
       "44   23   148      8.0 82   6     13 \n",
       "47   21   191     14.9 77   6     16 \n",
       "48   37   284     20.7 72   6     17 \n",
       "... ...   ...     ...  ...  ...   ...\n",
       "123 85    188      6.3 94   8     31 \n",
       "124 96    167      6.9 91   9      1 \n",
       "125 78    197      5.1 92   9      2 \n",
       "126 73    183      2.8 93   9      3 \n",
       "127 91    189      4.6 93   9      4 \n",
       "128 47     95      7.4 87   9      5 \n",
       "129 32     92     15.5 84   9      6 \n",
       "130 20    252     10.9 80   9      7 \n",
       "131 23    220     10.3 78   9      8 \n",
       "132 21    230     10.9 75   9      9 \n",
       "133 24    259      9.7 73   9     10 \n",
       "134 44    236     14.9 81   9     11 \n",
       "135 21    259     15.5 76   9     12 \n",
       "136 28    238      6.3 77   9     13 \n",
       "137  9     24     10.9 71   9     14 \n",
       "138 13    112     11.5 71   9     15 \n",
       "139 46    237      6.9 78   9     16 \n",
       "140 18    224     13.8 67   9     17 \n",
       "141 13     27     10.3 76   9     18 \n",
       "142 24    238     10.3 68   9     19 \n",
       "143 16    201      8.0 82   9     20 \n",
       "144 13    238     12.6 64   9     21 \n",
       "145 23     14      9.2 71   9     22 \n",
       "146 36    139     10.3 81   9     23 \n",
       "147  7     49     10.3 69   9     24 \n",
       "148 14     20     16.6 63   9     25 \n",
       "149 30    193      6.9 70   9     26 \n",
       "151 14    191     14.3 75   9     28 \n",
       "152 18    131      8.0 76   9     29 \n",
       "153 20    223     11.5 68   9     30 "
      ]
     },
     "metadata": {},
     "output_type": "display_data"
    }
   ],
   "source": [
    "# Write your answer here\n",
    "data(\"airquality\")\n",
    "airquality_no_na<-na.omit(airquality)\n",
    "airquality_no_na"
   ]
  },
  {
   "cell_type": "markdown",
   "id": "f9e5f1ce",
   "metadata": {},
   "source": [
    "* `42 lines` have been removed."
   ]
  },
  {
   "cell_type": "markdown",
   "id": "47fab9ee",
   "metadata": {
    "pycharm": {
     "name": "#%% md\n"
    }
   },
   "source": [
    "#### Question 7\n",
    "* Let's use a different strategy and impute the missing value.\n",
    "  * replace the missing values for Solar.R using that month's average.\n",
    "  * Example:\n",
    "    * The missing value for line 6 should be replaced with the average for month 5.\n",
    "    * The missing value for line 97 should be replaced with the average for month 8."
   ]
  },
  {
   "cell_type": "code",
   "execution_count": 183,
   "id": "fe11d9dd",
   "metadata": {
    "pycharm": {
     "name": "#%%\n"
    }
   },
   "outputs": [
    {
     "data": {
      "text/html": [
       "<table class=\"dataframe\">\n",
       "<caption>A data.frame: 7 × 6</caption>\n",
       "<thead>\n",
       "\t<tr><th></th><th scope=col>Ozone</th><th scope=col>Solar.R</th><th scope=col>Wind</th><th scope=col>Temp</th><th scope=col>Month</th><th scope=col>Day</th></tr>\n",
       "\t<tr><th></th><th scope=col>&lt;int&gt;</th><th scope=col>&lt;int&gt;</th><th scope=col>&lt;dbl&gt;</th><th scope=col>&lt;int&gt;</th><th scope=col>&lt;int&gt;</th><th scope=col>&lt;int&gt;</th></tr>\n",
       "</thead>\n",
       "<tbody>\n",
       "\t<tr><th scope=row>5</th><td>NA</td><td>NA</td><td>14.3</td><td>56</td><td>5</td><td> 5</td></tr>\n",
       "\t<tr><th scope=row>6</th><td>28</td><td>NA</td><td>14.9</td><td>66</td><td>5</td><td> 6</td></tr>\n",
       "\t<tr><th scope=row>11</th><td> 7</td><td>NA</td><td> 6.9</td><td>74</td><td>5</td><td>11</td></tr>\n",
       "\t<tr><th scope=row>27</th><td>NA</td><td>NA</td><td> 8.0</td><td>57</td><td>5</td><td>27</td></tr>\n",
       "\t<tr><th scope=row>96</th><td>78</td><td>NA</td><td> 6.9</td><td>86</td><td>8</td><td> 4</td></tr>\n",
       "\t<tr><th scope=row>97</th><td>35</td><td>NA</td><td> 7.4</td><td>85</td><td>8</td><td> 5</td></tr>\n",
       "\t<tr><th scope=row>98</th><td>66</td><td>NA</td><td> 4.6</td><td>87</td><td>8</td><td> 6</td></tr>\n",
       "</tbody>\n",
       "</table>\n"
      ],
      "text/latex": [
       "A data.frame: 7 × 6\n",
       "\\begin{tabular}{r|llllll}\n",
       "  & Ozone & Solar.R & Wind & Temp & Month & Day\\\\\n",
       "  & <int> & <int> & <dbl> & <int> & <int> & <int>\\\\\n",
       "\\hline\n",
       "\t5 & NA & NA & 14.3 & 56 & 5 &  5\\\\\n",
       "\t6 & 28 & NA & 14.9 & 66 & 5 &  6\\\\\n",
       "\t11 &  7 & NA &  6.9 & 74 & 5 & 11\\\\\n",
       "\t27 & NA & NA &  8.0 & 57 & 5 & 27\\\\\n",
       "\t96 & 78 & NA &  6.9 & 86 & 8 &  4\\\\\n",
       "\t97 & 35 & NA &  7.4 & 85 & 8 &  5\\\\\n",
       "\t98 & 66 & NA &  4.6 & 87 & 8 &  6\\\\\n",
       "\\end{tabular}\n"
      ],
      "text/markdown": [
       "\n",
       "A data.frame: 7 × 6\n",
       "\n",
       "| <!--/--> | Ozone &lt;int&gt; | Solar.R &lt;int&gt; | Wind &lt;dbl&gt; | Temp &lt;int&gt; | Month &lt;int&gt; | Day &lt;int&gt; |\n",
       "|---|---|---|---|---|---|---|\n",
       "| 5 | NA | NA | 14.3 | 56 | 5 |  5 |\n",
       "| 6 | 28 | NA | 14.9 | 66 | 5 |  6 |\n",
       "| 11 |  7 | NA |  6.9 | 74 | 5 | 11 |\n",
       "| 27 | NA | NA |  8.0 | 57 | 5 | 27 |\n",
       "| 96 | 78 | NA |  6.9 | 86 | 8 |  4 |\n",
       "| 97 | 35 | NA |  7.4 | 85 | 8 |  5 |\n",
       "| 98 | 66 | NA |  4.6 | 87 | 8 |  6 |\n",
       "\n"
      ],
      "text/plain": [
       "   Ozone Solar.R Wind Temp Month Day\n",
       "5  NA    NA      14.3 56   5      5 \n",
       "6  28    NA      14.9 66   5      6 \n",
       "11  7    NA       6.9 74   5     11 \n",
       "27 NA    NA       8.0 57   5     27 \n",
       "96 78    NA       6.9 86   8      4 \n",
       "97 35    NA       7.4 85   8      5 \n",
       "98 66    NA       4.6 87   8      6 "
      ]
     },
     "metadata": {},
     "output_type": "display_data"
    },
    {
     "data": {
      "text/html": [
       "<style>\n",
       ".list-inline {list-style: none; margin:0; padding: 0}\n",
       ".list-inline>li {display: inline-block}\n",
       ".list-inline>li:not(:last-child)::after {content: \"\\00b7\"; padding: 0 .5ex}\n",
       "</style>\n",
       "<ol class=list-inline><li>190</li><li>118</li><li>149</li><li>313</li><li>&lt;NA&gt;</li><li>&lt;NA&gt;</li><li>299</li><li>99</li><li>19</li><li>194</li><li>&lt;NA&gt;</li><li>256</li><li>290</li><li>274</li><li>65</li><li>334</li><li>307</li><li>78</li><li>322</li><li>44</li><li>8</li><li>320</li><li>25</li><li>92</li><li>66</li><li>266</li><li>&lt;NA&gt;</li><li>13</li><li>252</li><li>223</li><li>279</li></ol>\n"
      ],
      "text/latex": [
       "\\begin{enumerate*}\n",
       "\\item 190\n",
       "\\item 118\n",
       "\\item 149\n",
       "\\item 313\n",
       "\\item <NA>\n",
       "\\item <NA>\n",
       "\\item 299\n",
       "\\item 99\n",
       "\\item 19\n",
       "\\item 194\n",
       "\\item <NA>\n",
       "\\item 256\n",
       "\\item 290\n",
       "\\item 274\n",
       "\\item 65\n",
       "\\item 334\n",
       "\\item 307\n",
       "\\item 78\n",
       "\\item 322\n",
       "\\item 44\n",
       "\\item 8\n",
       "\\item 320\n",
       "\\item 25\n",
       "\\item 92\n",
       "\\item 66\n",
       "\\item 266\n",
       "\\item <NA>\n",
       "\\item 13\n",
       "\\item 252\n",
       "\\item 223\n",
       "\\item 279\n",
       "\\end{enumerate*}\n"
      ],
      "text/markdown": [
       "1. 190\n",
       "2. 118\n",
       "3. 149\n",
       "4. 313\n",
       "5. &lt;NA&gt;\n",
       "6. &lt;NA&gt;\n",
       "7. 299\n",
       "8. 99\n",
       "9. 19\n",
       "10. 194\n",
       "11. &lt;NA&gt;\n",
       "12. 256\n",
       "13. 290\n",
       "14. 274\n",
       "15. 65\n",
       "16. 334\n",
       "17. 307\n",
       "18. 78\n",
       "19. 322\n",
       "20. 44\n",
       "21. 8\n",
       "22. 320\n",
       "23. 25\n",
       "24. 92\n",
       "25. 66\n",
       "26. 266\n",
       "27. &lt;NA&gt;\n",
       "28. 13\n",
       "29. 252\n",
       "30. 223\n",
       "31. 279\n",
       "\n",
       "\n"
      ],
      "text/plain": [
       " [1] 190 118 149 313  NA  NA 299  99  19 194  NA 256 290 274  65 334 307  78 322\n",
       "[20]  44   8 320  25  92  66 266  NA  13 252 223 279"
      ]
     },
     "metadata": {},
     "output_type": "display_data"
    },
    {
     "data": {
      "text/html": [
       "181.296296296296"
      ],
      "text/latex": [
       "181.296296296296"
      ],
      "text/markdown": [
       "181.296296296296"
      ],
      "text/plain": [
       "[1] 181.2963"
      ]
     },
     "metadata": {},
     "output_type": "display_data"
    },
    {
     "data": {
      "text/html": [
       "<table class=\"dataframe\">\n",
       "<caption>A data.frame: 0 × 6</caption>\n",
       "<thead>\n",
       "\t<tr><th scope=col>Ozone</th><th scope=col>Solar.R</th><th scope=col>Wind</th><th scope=col>Temp</th><th scope=col>Month</th><th scope=col>Day</th></tr>\n",
       "\t<tr><th scope=col>&lt;int&gt;</th><th scope=col>&lt;int&gt;</th><th scope=col>&lt;dbl&gt;</th><th scope=col>&lt;int&gt;</th><th scope=col>&lt;int&gt;</th><th scope=col>&lt;int&gt;</th></tr>\n",
       "</thead>\n",
       "<tbody>\n",
       "</tbody>\n",
       "</table>\n"
      ],
      "text/latex": [
       "A data.frame: 0 × 6\n",
       "\\begin{tabular}{llllll}\n",
       " Ozone & Solar.R & Wind & Temp & Month & Day\\\\\n",
       " <int> & <int> & <dbl> & <int> & <int> & <int>\\\\\n",
       "\\hline\n",
       "\\end{tabular}\n"
      ],
      "text/markdown": [
       "\n",
       "A data.frame: 0 × 6\n",
       "\n",
       "| Ozone &lt;int&gt; | Solar.R &lt;int&gt; | Wind &lt;dbl&gt; | Temp &lt;int&gt; | Month &lt;int&gt; | Day &lt;int&gt; |\n",
       "|---|---|---|---|---|---|\n",
       "\n"
      ],
      "text/plain": [
       "     Ozone Solar.R Wind Temp Month Day"
      ]
     },
     "metadata": {},
     "output_type": "display_data"
    },
    {
     "data": {
      "text/html": [
       "<style>\n",
       ".list-inline {list-style: none; margin:0; padding: 0}\n",
       ".list-inline>li {display: inline-block}\n",
       ".list-inline>li:not(:last-child)::after {content: \"\\00b7\"; padding: 0 .5ex}\n",
       "</style>\n",
       "<ol class=list-inline><li>190</li><li>118</li><li>149</li><li>313</li><li>181.3</li><li>181.3</li><li>299</li><li>99</li><li>19</li><li>194</li><li>181.3</li><li>256</li><li>290</li><li>274</li><li>65</li><li>334</li><li>307</li><li>78</li><li>322</li><li>44</li><li>8</li><li>320</li><li>25</li><li>92</li><li>66</li><li>266</li><li>181.3</li><li>13</li><li>252</li><li>223</li><li>279</li></ol>\n"
      ],
      "text/latex": [
       "\\begin{enumerate*}\n",
       "\\item 190\n",
       "\\item 118\n",
       "\\item 149\n",
       "\\item 313\n",
       "\\item 181.3\n",
       "\\item 181.3\n",
       "\\item 299\n",
       "\\item 99\n",
       "\\item 19\n",
       "\\item 194\n",
       "\\item 181.3\n",
       "\\item 256\n",
       "\\item 290\n",
       "\\item 274\n",
       "\\item 65\n",
       "\\item 334\n",
       "\\item 307\n",
       "\\item 78\n",
       "\\item 322\n",
       "\\item 44\n",
       "\\item 8\n",
       "\\item 320\n",
       "\\item 25\n",
       "\\item 92\n",
       "\\item 66\n",
       "\\item 266\n",
       "\\item 181.3\n",
       "\\item 13\n",
       "\\item 252\n",
       "\\item 223\n",
       "\\item 279\n",
       "\\end{enumerate*}\n"
      ],
      "text/markdown": [
       "1. 190\n",
       "2. 118\n",
       "3. 149\n",
       "4. 313\n",
       "5. 181.3\n",
       "6. 181.3\n",
       "7. 299\n",
       "8. 99\n",
       "9. 19\n",
       "10. 194\n",
       "11. 181.3\n",
       "12. 256\n",
       "13. 290\n",
       "14. 274\n",
       "15. 65\n",
       "16. 334\n",
       "17. 307\n",
       "18. 78\n",
       "19. 322\n",
       "20. 44\n",
       "21. 8\n",
       "22. 320\n",
       "23. 25\n",
       "24. 92\n",
       "25. 66\n",
       "26. 266\n",
       "27. 181.3\n",
       "28. 13\n",
       "29. 252\n",
       "30. 223\n",
       "31. 279\n",
       "\n",
       "\n"
      ],
      "text/plain": [
       " [1] 190.0 118.0 149.0 313.0 181.3 181.3 299.0  99.0  19.0 194.0 181.3 256.0\n",
       "[13] 290.0 274.0  65.0 334.0 307.0  78.0 322.0  44.0   8.0 320.0  25.0  92.0\n",
       "[25]  66.0 266.0 181.3  13.0 252.0 223.0 279.0"
      ]
     },
     "metadata": {},
     "output_type": "display_data"
    },
    {
     "data": {
      "text/html": [
       "<style>\n",
       ".list-inline {list-style: none; margin:0; padding: 0}\n",
       ".list-inline>li {display: inline-block}\n",
       ".list-inline>li:not(:last-child)::after {content: \"\\00b7\"; padding: 0 .5ex}\n",
       "</style>\n",
       "<ol class=list-inline><li>83</li><li>24</li><li>77</li><li>&lt;NA&gt;</li><li>&lt;NA&gt;</li><li>&lt;NA&gt;</li><li>255</li><li>229</li><li>207</li><li>222</li><li>137</li><li>192</li><li>273</li><li>157</li><li>64</li><li>71</li><li>51</li><li>115</li><li>244</li><li>190</li><li>259</li><li>36</li><li>255</li><li>212</li><li>238</li><li>215</li><li>153</li><li>203</li><li>225</li><li>237</li><li>188</li></ol>\n"
      ],
      "text/latex": [
       "\\begin{enumerate*}\n",
       "\\item 83\n",
       "\\item 24\n",
       "\\item 77\n",
       "\\item <NA>\n",
       "\\item <NA>\n",
       "\\item <NA>\n",
       "\\item 255\n",
       "\\item 229\n",
       "\\item 207\n",
       "\\item 222\n",
       "\\item 137\n",
       "\\item 192\n",
       "\\item 273\n",
       "\\item 157\n",
       "\\item 64\n",
       "\\item 71\n",
       "\\item 51\n",
       "\\item 115\n",
       "\\item 244\n",
       "\\item 190\n",
       "\\item 259\n",
       "\\item 36\n",
       "\\item 255\n",
       "\\item 212\n",
       "\\item 238\n",
       "\\item 215\n",
       "\\item 153\n",
       "\\item 203\n",
       "\\item 225\n",
       "\\item 237\n",
       "\\item 188\n",
       "\\end{enumerate*}\n"
      ],
      "text/markdown": [
       "1. 83\n",
       "2. 24\n",
       "3. 77\n",
       "4. &lt;NA&gt;\n",
       "5. &lt;NA&gt;\n",
       "6. &lt;NA&gt;\n",
       "7. 255\n",
       "8. 229\n",
       "9. 207\n",
       "10. 222\n",
       "11. 137\n",
       "12. 192\n",
       "13. 273\n",
       "14. 157\n",
       "15. 64\n",
       "16. 71\n",
       "17. 51\n",
       "18. 115\n",
       "19. 244\n",
       "20. 190\n",
       "21. 259\n",
       "22. 36\n",
       "23. 255\n",
       "24. 212\n",
       "25. 238\n",
       "26. 215\n",
       "27. 153\n",
       "28. 203\n",
       "29. 225\n",
       "30. 237\n",
       "31. 188\n",
       "\n",
       "\n"
      ],
      "text/plain": [
       " [1]  83  24  77  NA  NA  NA 255 229 207 222 137 192 273 157  64  71  51 115 244\n",
       "[20] 190 259  36 255 212 238 215 153 203 225 237 188"
      ]
     },
     "metadata": {},
     "output_type": "display_data"
    },
    {
     "data": {
      "text/html": [
       "171.857142857143"
      ],
      "text/latex": [
       "171.857142857143"
      ],
      "text/markdown": [
       "171.857142857143"
      ],
      "text/plain": [
       "[1] 171.8571"
      ]
     },
     "metadata": {},
     "output_type": "display_data"
    },
    {
     "data": {
      "text/html": [
       "<table class=\"dataframe\">\n",
       "<caption>A data.frame: 0 × 6</caption>\n",
       "<thead>\n",
       "\t<tr><th scope=col>Ozone</th><th scope=col>Solar.R</th><th scope=col>Wind</th><th scope=col>Temp</th><th scope=col>Month</th><th scope=col>Day</th></tr>\n",
       "\t<tr><th scope=col>&lt;int&gt;</th><th scope=col>&lt;int&gt;</th><th scope=col>&lt;dbl&gt;</th><th scope=col>&lt;int&gt;</th><th scope=col>&lt;int&gt;</th><th scope=col>&lt;int&gt;</th></tr>\n",
       "</thead>\n",
       "<tbody>\n",
       "</tbody>\n",
       "</table>\n"
      ],
      "text/latex": [
       "A data.frame: 0 × 6\n",
       "\\begin{tabular}{llllll}\n",
       " Ozone & Solar.R & Wind & Temp & Month & Day\\\\\n",
       " <int> & <int> & <dbl> & <int> & <int> & <int>\\\\\n",
       "\\hline\n",
       "\\end{tabular}\n"
      ],
      "text/markdown": [
       "\n",
       "A data.frame: 0 × 6\n",
       "\n",
       "| Ozone &lt;int&gt; | Solar.R &lt;int&gt; | Wind &lt;dbl&gt; | Temp &lt;int&gt; | Month &lt;int&gt; | Day &lt;int&gt; |\n",
       "|---|---|---|---|---|---|\n",
       "\n"
      ],
      "text/plain": [
       "     Ozone Solar.R Wind Temp Month Day"
      ]
     },
     "metadata": {},
     "output_type": "display_data"
    },
    {
     "data": {
      "text/html": [
       "<style>\n",
       ".list-inline {list-style: none; margin:0; padding: 0}\n",
       ".list-inline>li {display: inline-block}\n",
       ".list-inline>li:not(:last-child)::after {content: \"\\00b7\"; padding: 0 .5ex}\n",
       "</style>\n",
       "<ol class=list-inline><li>83</li><li>24</li><li>77</li><li>171.9</li><li>171.9</li><li>171.9</li><li>255</li><li>229</li><li>207</li><li>222</li><li>137</li><li>192</li><li>273</li><li>157</li><li>64</li><li>71</li><li>51</li><li>115</li><li>244</li><li>190</li><li>259</li><li>36</li><li>255</li><li>212</li><li>238</li><li>215</li><li>153</li><li>203</li><li>225</li><li>237</li><li>188</li></ol>\n"
      ],
      "text/latex": [
       "\\begin{enumerate*}\n",
       "\\item 83\n",
       "\\item 24\n",
       "\\item 77\n",
       "\\item 171.9\n",
       "\\item 171.9\n",
       "\\item 171.9\n",
       "\\item 255\n",
       "\\item 229\n",
       "\\item 207\n",
       "\\item 222\n",
       "\\item 137\n",
       "\\item 192\n",
       "\\item 273\n",
       "\\item 157\n",
       "\\item 64\n",
       "\\item 71\n",
       "\\item 51\n",
       "\\item 115\n",
       "\\item 244\n",
       "\\item 190\n",
       "\\item 259\n",
       "\\item 36\n",
       "\\item 255\n",
       "\\item 212\n",
       "\\item 238\n",
       "\\item 215\n",
       "\\item 153\n",
       "\\item 203\n",
       "\\item 225\n",
       "\\item 237\n",
       "\\item 188\n",
       "\\end{enumerate*}\n"
      ],
      "text/markdown": [
       "1. 83\n",
       "2. 24\n",
       "3. 77\n",
       "4. 171.9\n",
       "5. 171.9\n",
       "6. 171.9\n",
       "7. 255\n",
       "8. 229\n",
       "9. 207\n",
       "10. 222\n",
       "11. 137\n",
       "12. 192\n",
       "13. 273\n",
       "14. 157\n",
       "15. 64\n",
       "16. 71\n",
       "17. 51\n",
       "18. 115\n",
       "19. 244\n",
       "20. 190\n",
       "21. 259\n",
       "22. 36\n",
       "23. 255\n",
       "24. 212\n",
       "25. 238\n",
       "26. 215\n",
       "27. 153\n",
       "28. 203\n",
       "29. 225\n",
       "30. 237\n",
       "31. 188\n",
       "\n",
       "\n"
      ],
      "text/plain": [
       " [1]  83.0  24.0  77.0 171.9 171.9 171.9 255.0 229.0 207.0 222.0 137.0 192.0\n",
       "[13] 273.0 157.0  64.0  71.0  51.0 115.0 244.0 190.0 259.0  36.0 255.0 212.0\n",
       "[25] 238.0 215.0 153.0 203.0 225.0 237.0 188.0"
      ]
     },
     "metadata": {},
     "output_type": "display_data"
    },
    {
     "data": {
      "text/html": [
       "<table class=\"dataframe\">\n",
       "<caption>A matrix: 2 × 31 of type dbl</caption>\n",
       "<tbody>\n",
       "\t<tr><th scope=row>solar_r_may</th><td>190</td><td>118</td><td>149</td><td>313.0</td><td>181.3</td><td>181.3</td><td>299</td><td> 99</td><td> 19</td><td>194</td><td>...</td><td>320</td><td> 25</td><td> 92</td><td> 66</td><td>266</td><td>181.3</td><td> 13</td><td>252</td><td>223</td><td>279</td></tr>\n",
       "\t<tr><th scope=row>solar_r_august</th><td> 83</td><td> 24</td><td> 77</td><td>171.9</td><td>171.9</td><td>171.9</td><td>255</td><td>229</td><td>207</td><td>222</td><td>...</td><td> 36</td><td>255</td><td>212</td><td>238</td><td>215</td><td>153.0</td><td>203</td><td>225</td><td>237</td><td>188</td></tr>\n",
       "</tbody>\n",
       "</table>\n"
      ],
      "text/latex": [
       "A matrix: 2 × 31 of type dbl\n",
       "\\begin{tabular}{r|lllllllllllllllllllll}\n",
       "\tsolar\\_r\\_may & 190 & 118 & 149 & 313.0 & 181.3 & 181.3 & 299 &  99 &  19 & 194 & ... & 320 &  25 &  92 &  66 & 266 & 181.3 &  13 & 252 & 223 & 279\\\\\n",
       "\tsolar\\_r\\_august &  83 &  24 &  77 & 171.9 & 171.9 & 171.9 & 255 & 229 & 207 & 222 & ... &  36 & 255 & 212 & 238 & 215 & 153.0 & 203 & 225 & 237 & 188\\\\\n",
       "\\end{tabular}\n"
      ],
      "text/markdown": [
       "\n",
       "A matrix: 2 × 31 of type dbl\n",
       "\n",
       "| solar_r_may | 190 | 118 | 149 | 313.0 | 181.3 | 181.3 | 299 |  99 |  19 | 194 | ... | 320 |  25 |  92 |  66 | 266 | 181.3 |  13 | 252 | 223 | 279 |\n",
       "| solar_r_august |  83 |  24 |  77 | 171.9 | 171.9 | 171.9 | 255 | 229 | 207 | 222 | ... |  36 | 255 | 212 | 238 | 215 | 153.0 | 203 | 225 | 237 | 188 |\n",
       "\n"
      ],
      "text/plain": [
       "               [,1] [,2] [,3] [,4]  [,5]  [,6]  [,7] [,8] [,9] [,10] [,11]\n",
       "solar_r_may    190  118  149  313.0 181.3 181.3 299   99   19  194   ...  \n",
       "solar_r_august  83   24   77  171.9 171.9 171.9 255  229  207  222   ...  \n",
       "               [,12] [,13] [,14] [,15] [,16] [,17] [,18] [,19] [,20] [,21]\n",
       "solar_r_may    320    25    92    66   266   181.3  13   252   223   279  \n",
       "solar_r_august  36   255   212   238   215   153.0 203   225   237   188  "
      ]
     },
     "metadata": {},
     "output_type": "display_data"
    }
   ],
   "source": [
    "# Write your answer here\n",
    "missing_Solar.R <- is.na(airquality$Solar.R)\n",
    "airquality[missing_Solar.R,]\n",
    "\n",
    "solar_r_may <- subset(airquality, Month==5)$Solar.R\n",
    "solar_r_may\n",
    "\n",
    "mean(solar_r_may, na.rm = TRUE)\n",
    "\n",
    "subset(airquality, (Month==5) & (Solar.R=='NA'))\n",
    "\n",
    "solar_r_may[c(5,6,11,27)]<-c(181.3)\n",
    "solar_r_may\n",
    "\n",
    "solar_r_august <- subset(airquality, Month==8)$Solar.R\n",
    "solar_r_august\n",
    "\n",
    "mean(solar_r_august, na.rm = TRUE)\n",
    "\n",
    "subset(airquality, (Month==8) & (Solar.R=='NA'))\n",
    "solar_r_august[c(4,5,6)]<-c(171.9)\n",
    "solar_r_august\n",
    "\n",
    "rbind(solar_r_may,solar_r_august)\n"
   ]
  },
  {
   "cell_type": "code",
   "execution_count": null,
   "id": "a03c5272",
   "metadata": {},
   "outputs": [],
   "source": []
  }
 ],
 "metadata": {
  "kernelspec": {
   "display_name": "R",
   "language": "R",
   "name": "ir"
  },
  "language_info": {
   "codemirror_mode": "r",
   "file_extension": ".r",
   "mimetype": "text/x-r-source",
   "name": "R",
   "pygments_lexer": "r",
   "version": "4.1.3"
  }
 },
 "nbformat": 4,
 "nbformat_minor": 5
}
