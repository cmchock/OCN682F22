{
 "cells": [
  {
   "cell_type": "code",
   "execution_count": 3,
   "id": "e4a8d008",
   "metadata": {},
   "outputs": [],
   "source": [
    "library(tidyverse)\n",
    "library(ggplot2)"
   ]
  },
  {
   "cell_type": "code",
   "execution_count": 4,
   "id": "d36b1912",
   "metadata": {},
   "outputs": [
    {
     "ename": "ERROR",
     "evalue": "Error in parse(text = x, srcfile = src): <text>:4:64: unexpected symbol\n3: weight_data = read_csv(\"Kaimana_tidy - Sheet1.csv\", \n4:                 col_types = cols(Date=col_double(), Collection Time\n                                                                  ^\n",
     "output_type": "error",
     "traceback": [
      "Error in parse(text = x, srcfile = src): <text>:4:64: unexpected symbol\n3: weight_data = read_csv(\"Kaimana_tidy - Sheet1.csv\", \n4:                 col_types = cols(Date=col_double(), Collection Time\n                                                                  ^\nTraceback:\n"
     ]
    }
   ],
   "source": [
    "### Kaimana_tidy dataset\n",
    "\n",
    "weight_data = read_csv(\"Kaimana_tidy - Sheet1.csv\", \n",
    "                col_types = cols(Date=col_double(), Collection Time = col_double(), Moon= col_double(), Time = col_double(), BP3 = col_double(), OC = col_double(), People_total = col_double(), Pple_msq = col_double(), Tide = col_double(), PreTide = col_double(), PostTide = col_double())\n",
    "               )\n",
    "\n",
    "head(weight_data)"
   ]
  },
  {
   "cell_type": "code",
   "execution_count": null,
   "id": "363010a5",
   "metadata": {},
   "outputs": [],
   "source": []
  }
 ],
 "metadata": {
  "kernelspec": {
   "display_name": "R",
   "language": "R",
   "name": "ir"
  },
  "language_info": {
   "codemirror_mode": "r",
   "file_extension": ".r",
   "mimetype": "text/x-r-source",
   "name": "R",
   "pygments_lexer": "r",
   "version": "4.1.3"
  }
 },
 "nbformat": 4,
 "nbformat_minor": 5
}
