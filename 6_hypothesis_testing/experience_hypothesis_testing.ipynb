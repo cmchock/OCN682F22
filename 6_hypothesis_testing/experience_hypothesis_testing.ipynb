{
 "cells": [
  {
   "cell_type": "code",
   "execution_count": 3,
   "id": "e3ff195c",
   "metadata": {},
   "outputs": [],
   "source": [
    "library(tidyverse)\n",
    "library(ggplot2)"
   ]
  },
  {
   "cell_type": "markdown",
   "id": "d0486091",
   "metadata": {},
   "source": [
    "Let's use the code provided below to generate a dataset representing two populations, each sampled from a Guassian with a specific population mean. Here I am generating only 5 samples"
   ]
  },
  {
   "cell_type": "code",
   "execution_count": 18,
   "id": "3b0a10f7",
   "metadata": {},
   "outputs": [
    {
     "data": {
      "text/html": [
       "<table class=\"dataframe\">\n",
       "<caption>A tibble: 10 × 2</caption>\n",
       "<thead>\n",
       "\t<tr><th scope=col>measure</th><th scope=col>site_name</th></tr>\n",
       "\t<tr><th scope=col>&lt;dbl&gt;</th><th scope=col>&lt;chr&gt;</th></tr>\n",
       "</thead>\n",
       "<tbody>\n",
       "\t<tr><td>10.29120</td><td>Site 1</td></tr>\n",
       "\t<tr><td>11.38886</td><td>Site 1</td></tr>\n",
       "\t<tr><td>10.64901</td><td>Site 1</td></tr>\n",
       "\t<tr><td>11.47788</td><td>Site 1</td></tr>\n",
       "\t<tr><td>10.43872</td><td>Site 1</td></tr>\n",
       "\t<tr><td>12.52232</td><td>Site 2</td></tr>\n",
       "\t<tr><td>11.95539</td><td>Site 2</td></tr>\n",
       "\t<tr><td>13.48441</td><td>Site 2</td></tr>\n",
       "\t<tr><td>10.40899</td><td>Site 2</td></tr>\n",
       "\t<tr><td>12.22564</td><td>Site 2</td></tr>\n",
       "</tbody>\n",
       "</table>\n"
      ],
      "text/latex": [
       "A tibble: 10 × 2\n",
       "\\begin{tabular}{ll}\n",
       " measure & site\\_name\\\\\n",
       " <dbl> & <chr>\\\\\n",
       "\\hline\n",
       "\t 10.29120 & Site 1\\\\\n",
       "\t 11.38886 & Site 1\\\\\n",
       "\t 10.64901 & Site 1\\\\\n",
       "\t 11.47788 & Site 1\\\\\n",
       "\t 10.43872 & Site 1\\\\\n",
       "\t 12.52232 & Site 2\\\\\n",
       "\t 11.95539 & Site 2\\\\\n",
       "\t 13.48441 & Site 2\\\\\n",
       "\t 10.40899 & Site 2\\\\\n",
       "\t 12.22564 & Site 2\\\\\n",
       "\\end{tabular}\n"
      ],
      "text/markdown": [
       "\n",
       "A tibble: 10 × 2\n",
       "\n",
       "| measure &lt;dbl&gt; | site_name &lt;chr&gt; |\n",
       "|---|---|\n",
       "| 10.29120 | Site 1 |\n",
       "| 11.38886 | Site 1 |\n",
       "| 10.64901 | Site 1 |\n",
       "| 11.47788 | Site 1 |\n",
       "| 10.43872 | Site 1 |\n",
       "| 12.52232 | Site 2 |\n",
       "| 11.95539 | Site 2 |\n",
       "| 13.48441 | Site 2 |\n",
       "| 10.40899 | Site 2 |\n",
       "| 12.22564 | Site 2 |\n",
       "\n"
      ],
      "text/plain": [
       "   measure  site_name\n",
       "1  10.29120 Site 1   \n",
       "2  11.38886 Site 1   \n",
       "3  10.64901 Site 1   \n",
       "4  11.47788 Site 1   \n",
       "5  10.43872 Site 1   \n",
       "6  12.52232 Site 2   \n",
       "7  11.95539 Site 2   \n",
       "8  13.48441 Site 2   \n",
       "9  10.40899 Site 2   \n",
       "10 12.22564 Site 2   "
      ]
     },
     "metadata": {},
     "output_type": "display_data"
    }
   ],
   "source": [
    "set.seed(110)\n",
    "data_1 = tibble(measure=rnorm(5, 10, 1))\n",
    "data_1$site_name <- 'Site 1'\n",
    "data_2 = tibble(measure=rnorm(5, 12, 1))\n",
    "data_2$site_name <- 'Site 2'\n",
    "complete_data = rbind(data_1, data_2)\n",
    "complete_data"
   ]
  },
  {
   "cell_type": "markdown",
   "id": "e08bf2cf",
   "metadata": {},
   "source": [
    "* I compute the mean of the dataset above using the following code:\n",
    "  * feel free to deconstruct the code to see what each chunk does.\n"
   ]
  },
  {
   "cell_type": "code",
   "execution_count": 19,
   "id": "dde6ba00",
   "metadata": {},
   "outputs": [
    {
     "data": {
      "text/html": [
       "10.8491329008612"
      ],
      "text/latex": [
       "10.8491329008612"
      ],
      "text/markdown": [
       "10.8491329008612"
      ],
      "text/plain": [
       "[1] 10.84913"
      ]
     },
     "metadata": {},
     "output_type": "display_data"
    },
    {
     "data": {
      "text/html": [
       "12.1193505444919"
      ],
      "text/latex": [
       "12.1193505444919"
      ],
      "text/markdown": [
       "12.1193505444919"
      ],
      "text/plain": [
       "[1] 12.11935"
      ]
     },
     "metadata": {},
     "output_type": "display_data"
    }
   ],
   "source": [
    "mean(complete_data[complete_data$site_name == \"Site 1\", ]$measure)\n",
    "mean(complete_data[complete_data$site_name == \"Site 2\", ]$measure)"
   ]
  },
  {
   "cell_type": "markdown",
   "id": "1ac520b8",
   "metadata": {},
   "source": [
    "* Use the `tapply` function instead of the code above to compute the means samples from \"Site 1\" and those from site 2\n",
    "  * See tapply for help if needed."
   ]
  },
  {
   "cell_type": "code",
   "execution_count": 20,
   "id": "501355df",
   "metadata": {},
   "outputs": [
    {
     "data": {
      "text/html": [
       "<style>\n",
       ".dl-inline {width: auto; margin:0; padding: 0}\n",
       ".dl-inline>dt, .dl-inline>dd {float: none; width: auto; display: inline-block}\n",
       ".dl-inline>dt::after {content: \":\\0020\"; padding-right: .5ex}\n",
       ".dl-inline>dt:not(:first-of-type) {padding-left: .5ex}\n",
       "</style><dl class=dl-inline><dt>Site 1</dt><dd>10.8491329008612</dd><dt>Site 2</dt><dd>12.1193505444919</dd></dl>\n"
      ],
      "text/latex": [
       "\\begin{description*}\n",
       "\\item[Site 1] 10.8491329008612\n",
       "\\item[Site 2] 12.1193505444919\n",
       "\\end{description*}\n"
      ],
      "text/markdown": [
       "Site 1\n",
       ":   10.8491329008612Site 2\n",
       ":   12.1193505444919\n",
       "\n"
      ],
      "text/plain": [
       "  Site 1   Site 2 \n",
       "10.84913 12.11935 "
      ]
     },
     "metadata": {},
     "output_type": "display_data"
    }
   ],
   "source": [
    "# Write your code here\n",
    "tapply(complete_data$measure,complete_data$site_name,mean)\n"
   ]
  },
  {
   "cell_type": "markdown",
   "id": "fd91de00",
   "metadata": {},
   "source": [
    "Q.2 \n",
    "\n",
    "* Use the bootstrapping-procedure covered in class to assess whether there is a statistically significant difference between the data in `Site 1` and that in `Site 2`.\n",
    "\n",
    "Make sure you follow the approach discussed in class and which consists of:\n",
    "\n",
    "1. Selecting an appropriate test statistic\n",
    "2. Bootstrapping a a distribuion for the observed statistic under the null hypothesis\n",
    "3. Desciding whether to accept or reject the null based on the probability of the null\n",
    "4. provide a p-value to support your decision.\n"
   ]
  },
  {
   "cell_type": "code",
   "execution_count": 4,
   "id": "f129769f",
   "metadata": {},
   "outputs": [],
   "source": [
    "set.seed(110)\n",
    "data_1 = tibble(measure=rnorm(40, 10, 1))\n",
    "data_1$site_name <- 'Site 1'\n",
    "data_2 = tibble(measure=rnorm(40, 14, 1))\n",
    "data_2$site_name <- 'Site 2'\n",
    "complete_data = rbind(data_1, data_2)"
   ]
  },
  {
   "cell_type": "markdown",
   "id": "36f886b6",
   "metadata": {},
   "source": [
    "#### Q2.0 \n",
    "\n",
    "Complete the following by describing the null and the alternative hypotheses we are testing here.\n"
   ]
  },
  {
   "cell_type": "markdown",
   "id": "c3a82ee6",
   "metadata": {},
   "source": [
    "### Write your answer here\n",
    "`Null hypothesis`: data_1 and data_2 come from the same distribution.\n",
    "`Alternative hypothesis`: data_1 and data_2 come from different distributions."
   ]
  },
  {
   "cell_type": "markdown",
   "id": "638ce673",
   "metadata": {},
   "source": [
    "#### Q.2.1 \n",
    "\n",
    "Produce a graph similar the one below (geom_density) display the distributions. If you're using the same seed as mine, your graph will look exactly the same as the one below \n",
    "\n",
    "![](https://www.dropbox.com/s/rz5jxm84kk8ac1m/dist.png?dl=1)"
   ]
  },
  {
   "cell_type": "code",
   "execution_count": 5,
   "id": "dff8d83e",
   "metadata": {},
   "outputs": [
    {
     "data": {
      "image/png": "[encoded data removed]",
      "text/plain": [
       "plot without title"
      ]
     },
     "metadata": {
      "image/png": {
       "height": 420,
       "width": 420
      }
     },
     "output_type": "display_data"
    }
   ],
   "source": [
    "# write your code here\n",
    "ggplot(complete_data, aes(x = measure, fill = site_name)) + \n",
    "  geom_density(alpha = 0.4, bw =0.65) + \n",
    "  xlim(5,18)"
   ]
  },
  {
   "cell_type": "markdown",
   "id": "2ce7e15e",
   "metadata": {},
   "source": [
    "Q2.2 Select a proper test statistic and produce a distribution of the statistic under the null hypothesis. Plot the data as both a histogram and density curves. Your graph may look like this.\n",
    "\n",
    "![](https://www.dropbox.com/s/3jarqg9swneai0r/mean_under_null.png?dl=1)"
   ]
  },
  {
   "cell_type": "code",
   "execution_count": null,
   "id": "1ad762eb",
   "metadata": {},
   "outputs": [],
   "source": [
    "# Write your code here\n",
    "processOneIter = function(data_1, data_2){\n",
    "    \n",
    "    concat_data = c(data_1, data_2)\n",
    "    len_concat_data = length(concat_data)\n",
    "    \n",
    "    len_data_1 = length(data_1)    \n",
    "    shuffled_data = sample(concat_data)\n",
    "    new_data_1 = shuffled_data[1:len_data_1]\n",
    "    new_data_2 = shuffled_data[(len_data_1+1):len_concat_data]\n",
    "    mean(new_data_1) - mean(new_data_2)\n",
    "    \n",
    "}\n",
    "processOneIter(data_1, data_2)"
   ]
  },
  {
   "cell_type": "code",
   "execution_count": null,
   "id": "6ea7827d",
   "metadata": {},
   "outputs": [],
   "source": [
    "mean_under_null = replicate(1000, processOneIter(data_1, data_2))\n",
    "\n",
    "ggplot()+\n",
    "  geom_histogram(aes(mean_under_null, y=..density..), bins =30, alpha=0.2, color=\"black\") + \n",
    "  geom_density(aes(mean_under_null, ), bw=0.2, size=1.5) + \n",
    "  xlim(-2.5, 2.5)"
   ]
  },
  {
   "cell_type": "markdown",
   "id": "4f03ae0d",
   "metadata": {},
   "source": [
    "####  Q2.3. \n",
    "\n",
    "Calculate and plot the observed statistic on the graph you created in Q.2.2. \n"
   ]
  },
  {
   "cell_type": "code",
   "execution_count": 17,
   "id": "df6e6ba2",
   "metadata": {},
   "outputs": [
    {
     "data": {
      "text/plain": [
       "\n",
       "\tWelch Two Sample t-test\n",
       "\n",
       "data:  data_1$measure and data_2$measure\n",
       "t = -16.777, df = 74.217, p-value < 2.2e-16\n",
       "alternative hypothesis: true difference in means is not equal to 0\n",
       "95 percent confidence interval:\n",
       " -3.975853 -3.131763\n",
       "sample estimates:\n",
       "mean of x mean of y \n",
       " 10.14979  13.70360 \n"
      ]
     },
     "metadata": {},
     "output_type": "display_data"
    }
   ],
   "source": [
    "#### Q2.4 compute the p-vlaue of the observed statistic under the null. What do you conclude about the hypotheses you enunciated in Q\n",
    "t.test(data_1$measure, data_2$measure)"
   ]
  },
  {
   "cell_type": "markdown",
   "id": "9d3786e9",
   "metadata": {},
   "source": [
    "I accept the Null Hypothesis (Ho) and reject the Alternative Hypothesis (Ha)."
   ]
  },
  {
   "cell_type": "markdown",
   "id": "71226301",
   "metadata": {},
   "source": [
    "#### Q.3 \n",
    "\n",
    "* The proportion of the of _P. lobata_, _M. capitata_ and _P. mendrina_ at a site X are c(0.60, 0.19, 0.21).\n",
    "* You surveyed site Y with different environmental conditions and obtains the following proportions for the three corals (0.61, 0.19, 0.20). Use the multinomial non-parametric hypotheses test to assess whether the proportions obtained at sites X and Y are statistically different.\n",
    "\n",
    "\n",
    "Although not explicitly required, your test should cover all the steps in Q2, i.e. appropriate graph(s) when possible, test statistics, and conclusion."
   ]
  },
  {
   "cell_type": "code",
   "execution_count": null,
   "id": "050b95b6",
   "metadata": {},
   "outputs": [],
   "source": [
    "sample(c('P. lobata', 'M. capitata', 'P. mendrina'), 200, replace=TRUE, prob=c(0.60,0.19,0.21))\n",
    "data_X$site_name <- 'Site X'\n",
    "data_Y$site_name <- 'Site Y'\n",
    "complete_data = rbind(data_X, data_Y)"
   ]
  },
  {
   "cell_type": "code",
   "execution_count": 18,
   "id": "8c50fc04",
   "metadata": {},
   "outputs": [
    {
     "data": {
      "text/html": [
       "<table class=\"dataframe\">\n",
       "<caption>A tibble: 6 × 3</caption>\n",
       "<thead>\n",
       "\t<tr><th scope=col>type</th><th scope=col>ratios</th><th scope=col>site</th></tr>\n",
       "\t<tr><th scope=col>&lt;chr&gt;</th><th scope=col>&lt;dbl&gt;</th><th scope=col>&lt;chr&gt;</th></tr>\n",
       "</thead>\n",
       "<tbody>\n",
       "\t<tr><td>P. lobata  </td><td>0.60</td><td>Site X</td></tr>\n",
       "\t<tr><td>P. lobata  </td><td>0.61</td><td>Site Y</td></tr>\n",
       "\t<tr><td>M. capitata</td><td>0.19</td><td>Site X</td></tr>\n",
       "\t<tr><td>M. capitata</td><td>0.19</td><td>Site Y</td></tr>\n",
       "\t<tr><td>P. mendrina</td><td>0.21</td><td>Site X</td></tr>\n",
       "\t<tr><td>P. mendrina</td><td>0.20</td><td>Site Y</td></tr>\n",
       "</tbody>\n",
       "</table>\n"
      ],
      "text/latex": [
       "A tibble: 6 × 3\n",
       "\\begin{tabular}{lll}\n",
       " type & ratios & site\\\\\n",
       " <chr> & <dbl> & <chr>\\\\\n",
       "\\hline\n",
       "\t P. lobata   & 0.60 & Site X\\\\\n",
       "\t P. lobata   & 0.61 & Site Y\\\\\n",
       "\t M. capitata & 0.19 & Site X\\\\\n",
       "\t M. capitata & 0.19 & Site Y\\\\\n",
       "\t P. mendrina & 0.21 & Site X\\\\\n",
       "\t P. mendrina & 0.20 & Site Y\\\\\n",
       "\\end{tabular}\n"
      ],
      "text/markdown": [
       "\n",
       "A tibble: 6 × 3\n",
       "\n",
       "| type &lt;chr&gt; | ratios &lt;dbl&gt; | site &lt;chr&gt; |\n",
       "|---|---|---|\n",
       "| P. lobata   | 0.60 | Site X |\n",
       "| P. lobata   | 0.61 | Site Y |\n",
       "| M. capitata | 0.19 | Site X |\n",
       "| M. capitata | 0.19 | Site Y |\n",
       "| P. mendrina | 0.21 | Site X |\n",
       "| P. mendrina | 0.20 | Site Y |\n",
       "\n"
      ],
      "text/plain": [
       "  type        ratios site  \n",
       "1 P. lobata   0.60   Site X\n",
       "2 P. lobata   0.61   Site Y\n",
       "3 M. capitata 0.19   Site X\n",
       "4 M. capitata 0.19   Site Y\n",
       "5 P. mendrina 0.21   Site X\n",
       "6 P. mendrina 0.20   Site Y"
      ]
     },
     "metadata": {},
     "output_type": "display_data"
    }
   ],
   "source": [
    "type = c('P. lobata', 'P. lobata', 'M. capitata', 'M. capitata', 'P. mendrina', 'P. mendrina')\n",
    "ratios = c(0.60, 0.61, 0.19, 0.19, 0.21, 0.20)\n",
    "site = rep(c(\"Site X\", \"Site Y\"), 3)\n",
    "\n",
    "\n",
    "coral_proportions = tibble(type, ratios, site)\n",
    "coral_proportions"
   ]
  },
  {
   "cell_type": "code",
   "execution_count": 33,
   "id": "f514e71a",
   "metadata": {},
   "outputs": [
    {
     "data": {
      "image/png": "[encoded data removed]",
      "text/plain": [
       "plot without title"
      ]
     },
     "metadata": {
      "image/png": {
       "height": 420,
       "width": 420
      }
     },
     "output_type": "display_data"
    }
   ],
   "source": [
    "ggplot(coral_proportions, aes(fill=site, y=ratios, x=type)) + \n",
    "    geom_bar(position=\"dodge\", stat=\"identity\") +\n",
    "    coord_flip()"
   ]
  },
  {
   "cell_type": "code",
   "execution_count": 20,
   "id": "ecd8047f",
   "metadata": {},
   "outputs": [
    {
     "data": {
      "text/html": [
       "5"
      ],
      "text/latex": [
       "5"
      ],
      "text/markdown": [
       "5"
      ],
      "text/plain": [
       "[1] 5"
      ]
     },
     "metadata": {},
     "output_type": "display_data"
    }
   ],
   "source": [
    "subtract = function(x){\n",
    "    x[1] - x[2]\n",
    "}\n",
    "\n",
    "subtract(c(20, 15))"
   ]
  },
  {
   "cell_type": "code",
   "execution_count": 22,
   "id": "320d6172",
   "metadata": {},
   "outputs": [
    {
     "data": {
      "text/html": [
       "<style>\n",
       ".dl-inline {width: auto; margin:0; padding: 0}\n",
       ".dl-inline>dt, .dl-inline>dd {float: none; width: auto; display: inline-block}\n",
       ".dl-inline>dt::after {content: \":\\0020\"; padding-right: .5ex}\n",
       ".dl-inline>dt:not(:first-of-type) {padding-left: .5ex}\n",
       "</style><dl class=dl-inline><dt>M. capitata</dt><dd>0</dd><dt>P. lobata</dt><dd>-0.01</dd><dt>P. mendrina</dt><dd>0.00999999999999998</dd></dl>\n"
      ],
      "text/latex": [
       "\\begin{description*}\n",
       "\\item[M. capitata] 0\n",
       "\\item[P. lobata] -0.01\n",
       "\\item[P. mendrina] 0.00999999999999998\n",
       "\\end{description*}\n"
      ],
      "text/markdown": [
       "M. capitata\n",
       ":   0P. lobata\n",
       ":   -0.01P. mendrina\n",
       ":   0.00999999999999998\n",
       "\n"
      ],
      "text/plain": [
       "M. capitata   P. lobata P. mendrina \n",
       "       0.00       -0.01        0.01 "
      ]
     },
     "metadata": {},
     "output_type": "display_data"
    }
   ],
   "source": [
    "tapply(coral_proportions$ratios, coral_proportions$type, subtract)"
   ]
  },
  {
   "cell_type": "code",
   "execution_count": 24,
   "id": "024fda28",
   "metadata": {},
   "outputs": [
    {
     "data": {
      "text/html": [
       "0.01"
      ],
      "text/latex": [
       "0.01"
      ],
      "text/markdown": [
       "0.01"
      ],
      "text/plain": [
       "[1] 0.01"
      ]
     },
     "metadata": {},
     "output_type": "display_data"
    }
   ],
   "source": [
    "subtract_abs = function(x){\n",
    "    abs(x[1] - x[2])\n",
    "}\n",
    "\n",
    "\n",
    "observed_stat = sum(tapply(coral_proportions$ratios, coral_proportions$type, subtract_abs))/2\n",
    "observed_stat"
   ]
  },
  {
   "cell_type": "markdown",
   "id": "c9c50de7",
   "metadata": {},
   "source": [
    "After using the hypotheses test, the proportions obtained at sites X and Y are not statistically different.\n",
    "The Null Hypothesis (Ho) is accepted, and the Alternative Hypothesis (Ha) is rejected."
   ]
  }
 ],
 "metadata": {
  "kernelspec": {
   "display_name": "R",
   "language": "R",
   "name": "ir"
  },
  "language_info": {
   "codemirror_mode": "r",
   "file_extension": ".r",
   "mimetype": "text/x-r-source",
   "name": "R",
   "pygments_lexer": "r",
   "version": "4.1.3"
  }
 },
 "nbformat": 4,
 "nbformat_minor": 5
}
