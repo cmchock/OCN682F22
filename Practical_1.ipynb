{
 "cells": [
  {
   "cell_type": "markdown",
   "id": "8fb34f02",
   "metadata": {},
   "source": [
    "### Question 1\n",
    "\n",
    "*  Draw a concepts diagram that uses all the following R and programming terminology \n",
    "   * Include any missing keywords that will simplify the concepts diagrams \n",
    "\n",
    "\n",
    "`Code`, `Variable`, `Data`, `Function`, `Call`, `Invoke`, `Type`, `Expression`, `Assign`, `Return value`, `Character`, `Numeric`, `Integer`, `Logical`, `Data structure`, `Arguments`, `Parameters`, `Default values`, `Vector`, `Data Type`, `Statement`, `Comment`\n",
    "\n",
    " For a brief description of concepts diagrams, see the following [page](https://www.lucidchart.com/pages/concept-map). A phone picture of simple doodle on paper with a pen will do, there is no need for a specific tool.\n",
    "\n",
    "\n",
    "\n",
    "We can discuss your solution next week. However, you are welcome to attach an image here if you wish. The following syntax can be used to include an image in a Jupyter or notebook:\n",
    "\n",
    "```markdown\n",
    "![](image_URL)\n",
    "```\n",
    "\n",
    "R users can, if they wish, include the URL where their image can be found."
   ]
  },
  {
   "cell_type": "markdown",
   "id": "f06dc26e",
   "metadata": {},
   "source": [
    "![](https://raw.githubusercontent.com/cmchock/OCN682F22/main/Experience1.png)"
   ]
  },
  {
   "cell_type": "markdown",
   "id": "dcace754",
   "metadata": {},
   "source": [
    "### Question 2\n",
    "\n",
    "* Rename this notebook to `Practical_1`\n",
    "\n",
    "* Make sure the notebook is set to use the `R` Kernel (instead of python by default)\n",
    "  * This is called the `runtime`\n",
    "\n",
    "* Test the runtime to make sure everything works, use the cell below to instantiate a vector `x` with any 5 values and computing its mean.\n",
    "  * The mean function can be invoked using `mean` and passing it `x`\n",
    "  * Assign the returned value to a variable called `y`\n",
    "\n",
    "* Create a cell above the current one and describe the computation that you just did\n",
    "  * A title that reads: \"This is a markdown test\"\n",
    "  * Text that reads: \"the variable y contains the mean of 5 values.\"\n",
    "  * Try to format (emphasize) the name `x` so it stands out.\n",
    "\n"
   ]
  },
  {
   "cell_type": "markdown",
   "id": "20e3e0df",
   "metadata": {},
   "source": [
    "# \"This is a markdown test\"\n",
    "\"the variable `y` contains the mean of 5 values.\""
   ]
  },
  {
   "cell_type": "code",
   "execution_count": 9,
   "id": "9be1d8f9",
   "metadata": {},
   "outputs": [
    {
     "data": {
      "text/html": [
       "3"
      ],
      "text/latex": [
       "3"
      ],
      "text/markdown": [
       "3"
      ],
      "text/plain": [
       "[1] 3"
      ]
     },
     "metadata": {},
     "output_type": "display_data"
    }
   ],
   "source": [
    "# Write you code in this cell\n",
    "x<-c(1,2,3,4,5)\n",
    "mean(x)\n",
    "y<-mean(x)"
   ]
  },
  {
   "cell_type": "markdown",
   "id": "96a5872d",
   "metadata": {},
   "source": [
    "### Question 3\n",
    "\n",
    "In cell below:\n",
    "* Crate a statement that assigns to a variable `sec_per_min` the number of seconds in each minute\n",
    "* Use the variable `sec_per_min` to compute a new variable called `sec_per_hour` representing the number of seconds per hour\n",
    "  * `sec_per_hour` is simply the number of `sec_per_min` multilied by 60.\n",
    "* Use the variable `sec_per_hour` to compute a variable called `sec_per_day` representing the number of seconds per day\n",
    "  * `sec_per_day` is simply the numebr of `sec_per_hour` multilied by 24.\n",
    "\n",
    "* Use an expression to show the calculated value; i.e., the number of seconds in a single day."
   ]
  },
  {
   "cell_type": "code",
   "execution_count": 19,
   "id": "b65f8b70",
   "metadata": {},
   "outputs": [
    {
     "data": {
      "text/html": [
       "86400"
      ],
      "text/latex": [
       "86400"
      ],
      "text/markdown": [
       "86400"
      ],
      "text/plain": [
       "[1] 86400"
      ]
     },
     "metadata": {},
     "output_type": "display_data"
    }
   ],
   "source": [
    "# Write you code in this cell\n",
    "sec_per_min<-60\n",
    "sec_per_hour<-sec_per_min*60\n",
    "sec_per_day<-sec_per_hour*24\n",
    "y<-sec_per_day\n",
    "y"
   ]
  },
  {
   "cell_type": "markdown",
   "id": "b845130f",
   "metadata": {},
   "source": [
    "### Question 4\n",
    "\n",
    "* Recall that `c` creates atomic vectors\n",
    "\n",
    "* What does the following create? \n",
    "  * Specifically, what is the of the data it contains?\n",
    "\n",
    "`c(1, 2, 3, \"Hi\")`\n",
    "\n",
    "* Would the following be valid?\n",
    "\n",
    "`c(1, 2, 3, \"Hi\") + 1 `\n",
    "\n",
    "* How about \n",
    "\n",
    "`c(1, 2, 3, FALSE) + 1 `\n",
    "\n",
    "* Hint: recall that know that the function `class()` returns the atomic data type stored in a vector\n"
   ]
  },
  {
   "cell_type": "markdown",
   "id": "8d006393",
   "metadata": {},
   "source": [
    "`c(1, 2, 3, \"Hi\")` contains 4 elements, where \"Hi\" is one of them"
   ]
  },
  {
   "cell_type": "markdown",
   "id": "0b95ad61",
   "metadata": {},
   "source": [
    "`c(1, 2, 3, \"Hi\")` would not be valid"
   ]
  },
  {
   "cell_type": "markdown",
   "id": "08b2ec3b",
   "metadata": {},
   "source": [
    "`c(1, 2, 3, FALSE) + 1` would be valid"
   ]
  },
  {
   "cell_type": "markdown",
   "id": "ba563acd",
   "metadata": {},
   "source": [
    "### Question 5: \n",
    "\n",
    "* We will be reproducing the following plot\n",
    "\n",
    "![](https://www.dropbox.com/s/c4nf3n96np3i7nm/simple_qplot_example.png?dl=1)\n",
    "\n",
    "\n"
   ]
  },
  {
   "cell_type": "markdown",
   "id": "36ea72a1",
   "metadata": {},
   "source": [
    "### Create `x-axis` values\n",
    "\n",
    "* Create a variable called `x_axis` that is a `vector` of numerical values between 0 and 10 with a step of 0.5. \n",
    "    * i.e., `x_axis` will contain the values 0, 0.5, 1, 1.5, 2 .... 10\n",
    "    * Hint: you need a function that returns a sequence of values as a vector"
   ]
  },
  {
   "cell_type": "code",
   "execution_count": 34,
   "id": "ad55fe68",
   "metadata": {},
   "outputs": [],
   "source": [
    "# Write you code in this cell\n",
    "x_axis<-seq(0,10,by=0.5)\n"
   ]
  },
  {
   "cell_type": "markdown",
   "id": "51d5fa41",
   "metadata": {},
   "source": [
    "### Create `y-axis` values\n",
    "\n",
    "* Create a variable called `y_axis` that is a list of $x^2 + 2x + 3 $. \n",
    "* I.e., each position in `y_axis` is computed as $x^2 + 2x + 3 $, x is the value at the same position in `x_axis`\n",
    "* For example: \n",
    "  * The value at the first position of `y_axis` is 0^2 + 2*0 + 3 = 3\n",
    "  * The value at the second position of `y_axis` is 0.5^2 + 2*0.5 + 3 = 4.25\n",
    "  * etc...\n",
    "* Hint: remember that arithmetic operations on a vector are evaluated element-wise"
   ]
  },
  {
   "cell_type": "code",
   "execution_count": 35,
   "id": "adc293ad",
   "metadata": {},
   "outputs": [],
   "source": [
    "# Write you code in this cell\n",
    "y_axis<-x_axis^2+2*x_axis+3\n"
   ]
  },
  {
   "cell_type": "markdown",
   "id": "fe96674b",
   "metadata": {},
   "source": [
    "### Generate the plot of `x_axis` versus `y_axis`\n",
    "\n",
    "* Plot the values of `x_axis` and `y_axis`\n",
    "* Use the `qplot` function, which is part of `ggplot` library to plot the `x_axis` and `y_axis`.\n",
    "    * You can consult `qplot`'s documentation to see what arguments it takes as input\n",
    " \n",
    "* Change the behavior of your plot so that it has:\n",
    "  * A label for the `x-axis`. Mine says \"My  x_axis\"\n",
    "  * A label for the `y-axis`. Mine says \"My  x_axis\"\n",
    "  * A title. Mine says \"My amazing plot of x_axis versus y_axis\"  \n",
    "  * Dots that are bigger than those produced by default.\n",
    " \n",
    "* Hint: We know that we can change the default behavior of a function by changing the default parameters.\n",
    "  * Which default parameter (param) controls the `x-axis`, `y-axis`, and plot labels?\n",
    "  * Which default parameter controls the size of the symbol (dot here)?\n"
   ]
  },
  {
   "cell_type": "code",
   "execution_count": 36,
   "id": "ea0fbb6f",
   "metadata": {},
   "outputs": [
    {
     "data": {
      "image/png": "[encoded data removed]",
      "text/plain": [
       "plot without title"
      ]
     },
     "metadata": {
      "image/png": {
       "height": 420,
       "width": 420
      }
     },
     "output_type": "display_data"
    }
   ],
   "source": [
    "# Write you code in this cell\n",
    "library(ggplot2)\n",
    "\n",
    "qplot(x_axis, y_axis, xlab = \"My x axis\",\n",
    "      ylab = \"My y axis\",\n",
    "      main = \"My amazing plot of x_axis versus y_axis\",\n",
    "      size = I(15))\n",
    "\n"
   ]
  },
  {
   "cell_type": "markdown",
   "id": "cac41ddc",
   "metadata": {},
   "source": [
    "`xlab`, `ylab`, and `main` control the x-axis, y-axis, and title labels.\n",
    "`size` controls the size of the symbol."
   ]
  }
 ],
 "metadata": {
  "kernelspec": {
   "display_name": "R",
   "language": "R",
   "name": "ir"
  },
  "language_info": {
   "codemirror_mode": "r",
   "file_extension": ".r",
   "mimetype": "text/x-r-source",
   "name": "R",
   "pygments_lexer": "r",
   "version": "4.1.3"
  }
 },
 "nbformat": 4,
 "nbformat_minor": 5
}
