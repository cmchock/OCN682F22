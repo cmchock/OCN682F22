{
 "cells": [
  {
   "cell_type": "code",
   "execution_count": null,
   "id": "7822c144",
   "metadata": {},
   "outputs": [],
   "source": [
    "a=(c(1:4),nrow=2)\n",
    "b=(c(6:17,nrow=4))\n",
    "c=(c(3:11,ncol=3,byrow=TRUE))"
   ]
  }
 ],
 "metadata": {
  "kernelspec": {
   "display_name": "R",
   "language": "R",
   "name": "ir"
  },
  "language_info": {
   "codemirror_mode": "r",
   "file_extension": ".r",
   "mimetype": "text/x-r-source",
   "name": "R",
   "pygments_lexer": "r",
   "version": "4.1.3"
  }
 },
 "nbformat": 4,
 "nbformat_minor": 5
}
