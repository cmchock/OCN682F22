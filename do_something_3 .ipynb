{
 "cells": [
  {
   "cell_type": "code",
   "execution_count": 1,
   "id": "4a495d45",
   "metadata": {},
   "outputs": [],
   "source": [
    "do_something_3<-function(x){\n",
    "   print(sum(x))\n",
    "   print(x[1])\n",
    "   print(x[1]/5)\n",
    "}"
   ]
  },
  {
   "cell_type": "code",
   "execution_count": 2,
   "id": "0b84ef13",
   "metadata": {},
   "outputs": [],
   "source": [
    "do_something_3_vector<-c(1,2,3,4,5)"
   ]
  },
  {
   "cell_type": "code",
   "execution_count": 3,
   "id": "a13d9297",
   "metadata": {},
   "outputs": [
    {
     "data": {
      "text/html": [
       "3"
      ],
      "text/latex": [
       "3"
      ],
      "text/markdown": [
       "3"
      ],
      "text/plain": [
       "[1] 3"
      ]
     },
     "metadata": {},
     "output_type": "display_data"
    }
   ],
   "source": [
    "do_something_3(do_something_3_vector)"
   ]
  },
  {
   "cell_type": "code",
   "execution_count": null,
   "id": "88dad548",
   "metadata": {},
   "outputs": [],
   "source": [
    "do_something_3<-(c(1,2,3,4,5,6),)"
   ]
  }
 ],
 "metadata": {
  "kernelspec": {
   "display_name": "R",
   "language": "R",
   "name": "ir"
  },
  "language_info": {
   "codemirror_mode": "r",
   "file_extension": ".r",
   "mimetype": "text/x-r-source",
   "name": "R",
   "pygments_lexer": "r",
   "version": "4.1.3"
  }
 },
 "nbformat": 4,
 "nbformat_minor": 5
}
